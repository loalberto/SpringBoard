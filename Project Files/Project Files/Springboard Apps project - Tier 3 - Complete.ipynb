{
 "cells": [
  {
   "cell_type": "markdown",
   "metadata": {
    "colab_type": "text",
    "id": "i2RUFW7TFcuh"
   },
   "source": [
    "# Springboard Apps project - Tier 3 - Complete\n",
    "\n",
    "Welcome to the Apps project! To give you a taste of your future career, we're going to walk through exactly the kind of notebook that you'd write as a data scientist. In the process, we'll be sure to signpost the general framework for our investigation - the Data Science Pipeline - as well as give reasons for why we're doing what we're doing. We're also going to apply some of the skills and knowledge you've built up in the previous unit when reading Professor Spiegelhalter's *The Art of Statistics* (hereinafter *AoS*). \n",
    "\n",
    "So let's get cracking!\n",
    "\n",
    "**Brief**\n",
    "\n",
    "Did Apple Store apps receive better reviews than Google Play apps?\n",
    "\n",
    "## Stages of the project\n",
    "\n",
    "1. Sourcing and loading \n",
    "    * Load the two datasets\n",
    "    * Pick the columns that we are going to work with \n",
    "    * Subsetting the data on this basis \n",
    " \n",
    " \n",
    "2. Cleaning, transforming and visualizing\n",
    "    * Check the data types and fix them\n",
    "    * Add a `platform` column to both the `Apple` and the `Google` dataframes\n",
    "    * Changing the column names to prepare for a join \n",
    "    * Join the two data sets\n",
    "    * Eliminate the `NaN` values\n",
    "    * Filter only those apps that have been reviewed at least once\n",
    "    * Summarize the data visually and analytically (by the column `platform`)  \n",
    "  \n",
    "  \n",
    "3. Modelling \n",
    "    * Hypothesis formulation\n",
    "    * Getting the distribution of the data\n",
    "    * Permutation test \n",
    "\n",
    "\n",
    "4. Evaluating and concluding \n",
    "    * What is our conclusion?\n",
    "    * What is our decision?\n",
    "    * Other models we could have used. \n",
    "    "
   ]
  },
  {
   "cell_type": "markdown",
   "metadata": {
    "colab_type": "text",
    "id": "QLUAXtl1Fcuk"
   },
   "source": [
    "## Importing the libraries\n",
    "\n",
    "In this case we are going to import pandas, numpy, scipy, random and matplotlib.pyplot"
   ]
  },
  {
   "cell_type": "code",
   "execution_count": 161,
   "metadata": {
    "colab": {},
    "colab_type": "code",
    "id": "XeXJOlGiFcum"
   },
   "outputs": [],
   "source": [
    "import pandas as pd\n",
    "import numpy as np\n",
    "import matplotlib.pyplot as plt\n",
    "# scipi is a library for statistical tests and visualizations \n",
    "from scipy import stats\n",
    "# random enables us to generate random numbers\n",
    "import random"
   ]
  },
  {
   "cell_type": "markdown",
   "metadata": {
    "colab_type": "text",
    "id": "zVD7NlPAFcup"
   },
   "source": [
    "## Stage 1 -  Sourcing and loading data"
   ]
  },
  {
   "cell_type": "markdown",
   "metadata": {
    "colab_type": "text",
    "id": "KU8bdbImFcuq"
   },
   "source": [
    "### 1a. Source and load the data\n",
    "Let's download the data from Kaggle. Kaggle is a fantastic resource: a kind of social medium for data scientists, it boasts projects, datasets and news on the freshest libraries and technologies all in one place. The data from the Apple Store can be found [here](https://www.kaggle.com/ramamet4/app-store-apple-data-set-10k-apps) and the data from Google Store can be found [here](https://www.kaggle.com/lava18/google-play-store-apps).\n",
    "Download the datasets and save them in your working directory."
   ]
  },
  {
   "cell_type": "code",
   "execution_count": 162,
   "metadata": {
    "colab": {},
    "colab_type": "code",
    "id": "laM1PB76Fcur"
   },
   "outputs": [
    {
     "data": {
      "text/html": [
       "<div>\n",
       "<style scoped>\n",
       "    .dataframe tbody tr th:only-of-type {\n",
       "        vertical-align: middle;\n",
       "    }\n",
       "\n",
       "    .dataframe tbody tr th {\n",
       "        vertical-align: top;\n",
       "    }\n",
       "\n",
       "    .dataframe thead th {\n",
       "        text-align: right;\n",
       "    }\n",
       "</style>\n",
       "<table border=\"1\" class=\"dataframe\">\n",
       "  <thead>\n",
       "    <tr style=\"text-align: right;\">\n",
       "      <th></th>\n",
       "      <th>App</th>\n",
       "      <th>Category</th>\n",
       "      <th>Rating</th>\n",
       "      <th>Reviews</th>\n",
       "      <th>Size</th>\n",
       "      <th>Installs</th>\n",
       "      <th>Type</th>\n",
       "      <th>Price</th>\n",
       "      <th>Content Rating</th>\n",
       "      <th>Genres</th>\n",
       "      <th>Last Updated</th>\n",
       "      <th>Current Ver</th>\n",
       "      <th>Android Ver</th>\n",
       "    </tr>\n",
       "  </thead>\n",
       "  <tbody>\n",
       "    <tr>\n",
       "      <th>0</th>\n",
       "      <td>Photo Editor &amp; Candy Camera &amp; Grid &amp; ScrapBook</td>\n",
       "      <td>ART_AND_DESIGN</td>\n",
       "      <td>4.1</td>\n",
       "      <td>159</td>\n",
       "      <td>19M</td>\n",
       "      <td>10,000+</td>\n",
       "      <td>Free</td>\n",
       "      <td>0</td>\n",
       "      <td>Everyone</td>\n",
       "      <td>Art &amp; Design</td>\n",
       "      <td>January 7, 2018</td>\n",
       "      <td>1.0.0</td>\n",
       "      <td>4.0.3 and up</td>\n",
       "    </tr>\n",
       "    <tr>\n",
       "      <th>1</th>\n",
       "      <td>Coloring book moana</td>\n",
       "      <td>ART_AND_DESIGN</td>\n",
       "      <td>3.9</td>\n",
       "      <td>967</td>\n",
       "      <td>14M</td>\n",
       "      <td>500,000+</td>\n",
       "      <td>Free</td>\n",
       "      <td>0</td>\n",
       "      <td>Everyone</td>\n",
       "      <td>Art &amp; Design;Pretend Play</td>\n",
       "      <td>January 15, 2018</td>\n",
       "      <td>2.0.0</td>\n",
       "      <td>4.0.3 and up</td>\n",
       "    </tr>\n",
       "    <tr>\n",
       "      <th>2</th>\n",
       "      <td>U Launcher Lite – FREE Live Cool Themes, Hide ...</td>\n",
       "      <td>ART_AND_DESIGN</td>\n",
       "      <td>4.7</td>\n",
       "      <td>87510</td>\n",
       "      <td>8.7M</td>\n",
       "      <td>5,000,000+</td>\n",
       "      <td>Free</td>\n",
       "      <td>0</td>\n",
       "      <td>Everyone</td>\n",
       "      <td>Art &amp; Design</td>\n",
       "      <td>August 1, 2018</td>\n",
       "      <td>1.2.4</td>\n",
       "      <td>4.0.3 and up</td>\n",
       "    </tr>\n",
       "  </tbody>\n",
       "</table>\n",
       "</div>"
      ],
      "text/plain": [
       "                                                 App        Category  Rating  \\\n",
       "0     Photo Editor & Candy Camera & Grid & ScrapBook  ART_AND_DESIGN     4.1   \n",
       "1                                Coloring book moana  ART_AND_DESIGN     3.9   \n",
       "2  U Launcher Lite – FREE Live Cool Themes, Hide ...  ART_AND_DESIGN     4.7   \n",
       "\n",
       "  Reviews  Size    Installs  Type Price Content Rating  \\\n",
       "0     159   19M     10,000+  Free     0       Everyone   \n",
       "1     967   14M    500,000+  Free     0       Everyone   \n",
       "2   87510  8.7M  5,000,000+  Free     0       Everyone   \n",
       "\n",
       "                      Genres      Last Updated Current Ver   Android Ver  \n",
       "0               Art & Design   January 7, 2018       1.0.0  4.0.3 and up  \n",
       "1  Art & Design;Pretend Play  January 15, 2018       2.0.0  4.0.3 and up  \n",
       "2               Art & Design    August 1, 2018       1.2.4  4.0.3 and up  "
      ]
     },
     "execution_count": 162,
     "metadata": {},
     "output_type": "execute_result"
    }
   ],
   "source": [
    "# Now that the files are saved, we want to load them into Python using read_csv and pandas.\n",
    "\n",
    "# Create a variable called google, and store in it the path of the csv file that contains your google dataset. \n",
    "# If your dataset is in the same folder as this notebook, the path will simply be the name of the file. \n",
    "google = 'googleplaystore.csv'\n",
    "\n",
    "# Read the csv file into a data frame called Google using the read_csv() pandas method.\n",
    "Google = pd.read_csv(google)\n",
    "\n",
    "# Using the head() pandas method, observe the first three entries.\n",
    "Google.head(3)"
   ]
  },
  {
   "cell_type": "code",
   "execution_count": 163,
   "metadata": {
    "colab": {},
    "colab_type": "code",
    "id": "3AW8EA1wFcuu"
   },
   "outputs": [
    {
     "data": {
      "text/html": [
       "<div>\n",
       "<style scoped>\n",
       "    .dataframe tbody tr th:only-of-type {\n",
       "        vertical-align: middle;\n",
       "    }\n",
       "\n",
       "    .dataframe tbody tr th {\n",
       "        vertical-align: top;\n",
       "    }\n",
       "\n",
       "    .dataframe thead th {\n",
       "        text-align: right;\n",
       "    }\n",
       "</style>\n",
       "<table border=\"1\" class=\"dataframe\">\n",
       "  <thead>\n",
       "    <tr style=\"text-align: right;\">\n",
       "      <th></th>\n",
       "      <th>Unnamed: 0</th>\n",
       "      <th>id</th>\n",
       "      <th>track_name</th>\n",
       "      <th>size_bytes</th>\n",
       "      <th>currency</th>\n",
       "      <th>price</th>\n",
       "      <th>rating_count_tot</th>\n",
       "      <th>rating_count_ver</th>\n",
       "      <th>user_rating</th>\n",
       "      <th>user_rating_ver</th>\n",
       "      <th>ver</th>\n",
       "      <th>cont_rating</th>\n",
       "      <th>prime_genre</th>\n",
       "      <th>sup_devices.num</th>\n",
       "      <th>ipadSc_urls.num</th>\n",
       "      <th>lang.num</th>\n",
       "      <th>vpp_lic</th>\n",
       "    </tr>\n",
       "  </thead>\n",
       "  <tbody>\n",
       "    <tr>\n",
       "      <th>0</th>\n",
       "      <td>1</td>\n",
       "      <td>281656475</td>\n",
       "      <td>PAC-MAN Premium</td>\n",
       "      <td>100788224</td>\n",
       "      <td>USD</td>\n",
       "      <td>3.99</td>\n",
       "      <td>21292</td>\n",
       "      <td>26</td>\n",
       "      <td>4.0</td>\n",
       "      <td>4.5</td>\n",
       "      <td>6.3.5</td>\n",
       "      <td>4+</td>\n",
       "      <td>Games</td>\n",
       "      <td>38</td>\n",
       "      <td>5</td>\n",
       "      <td>10</td>\n",
       "      <td>1</td>\n",
       "    </tr>\n",
       "    <tr>\n",
       "      <th>1</th>\n",
       "      <td>2</td>\n",
       "      <td>281796108</td>\n",
       "      <td>Evernote - stay organized</td>\n",
       "      <td>158578688</td>\n",
       "      <td>USD</td>\n",
       "      <td>0.00</td>\n",
       "      <td>161065</td>\n",
       "      <td>26</td>\n",
       "      <td>4.0</td>\n",
       "      <td>3.5</td>\n",
       "      <td>8.2.2</td>\n",
       "      <td>4+</td>\n",
       "      <td>Productivity</td>\n",
       "      <td>37</td>\n",
       "      <td>5</td>\n",
       "      <td>23</td>\n",
       "      <td>1</td>\n",
       "    </tr>\n",
       "    <tr>\n",
       "      <th>2</th>\n",
       "      <td>3</td>\n",
       "      <td>281940292</td>\n",
       "      <td>WeatherBug - Local Weather, Radar, Maps, Alerts</td>\n",
       "      <td>100524032</td>\n",
       "      <td>USD</td>\n",
       "      <td>0.00</td>\n",
       "      <td>188583</td>\n",
       "      <td>2822</td>\n",
       "      <td>3.5</td>\n",
       "      <td>4.5</td>\n",
       "      <td>5.0.0</td>\n",
       "      <td>4+</td>\n",
       "      <td>Weather</td>\n",
       "      <td>37</td>\n",
       "      <td>5</td>\n",
       "      <td>3</td>\n",
       "      <td>1</td>\n",
       "    </tr>\n",
       "  </tbody>\n",
       "</table>\n",
       "</div>"
      ],
      "text/plain": [
       "   Unnamed: 0         id                                       track_name  \\\n",
       "0           1  281656475                                  PAC-MAN Premium   \n",
       "1           2  281796108                        Evernote - stay organized   \n",
       "2           3  281940292  WeatherBug - Local Weather, Radar, Maps, Alerts   \n",
       "\n",
       "   size_bytes currency  price  rating_count_tot  rating_count_ver  \\\n",
       "0   100788224      USD   3.99             21292                26   \n",
       "1   158578688      USD   0.00            161065                26   \n",
       "2   100524032      USD   0.00            188583              2822   \n",
       "\n",
       "   user_rating  user_rating_ver    ver cont_rating   prime_genre  \\\n",
       "0          4.0              4.5  6.3.5          4+         Games   \n",
       "1          4.0              3.5  8.2.2          4+  Productivity   \n",
       "2          3.5              4.5  5.0.0          4+       Weather   \n",
       "\n",
       "   sup_devices.num  ipadSc_urls.num  lang.num  vpp_lic  \n",
       "0               38                5        10        1  \n",
       "1               37                5        23        1  \n",
       "2               37                5         3        1  "
      ]
     },
     "execution_count": 163,
     "metadata": {},
     "output_type": "execute_result"
    }
   ],
   "source": [
    "# Create a variable called apple, and store in it the path of the csv file that contains your apple dataset. \n",
    "apple = 'AppleStore.csv'\n",
    "\n",
    "# Read the csv file into a pandas DataFrame object called Apple.\n",
    "Apple = pd.read_csv(apple)\n",
    "\n",
    "# Observe the first three entries like you did with your other data. \n",
    "Apple.head(3)"
   ]
  },
  {
   "cell_type": "markdown",
   "metadata": {
    "colab_type": "text",
    "id": "vljOHKNTFcuw"
   },
   "source": [
    "### 1b. Pick the columns we'll work with\n",
    "\n",
    "From the documentation of these datasets, we can infer that the most appropriate columns to answer the brief are:\n",
    "\n",
    "1. Google:\n",
    "    * `Category` # Do we need this?\n",
    "    * `Rating`\n",
    "    * `Reviews`\n",
    "    * `Price` (maybe)\n",
    "2. Apple:    \n",
    "    * `prime_genre` # Do we need this?\n",
    "    * `user_rating` \n",
    "    * `rating_count_tot`\n",
    "    * `price` (maybe)"
   ]
  },
  {
   "cell_type": "markdown",
   "metadata": {
    "colab_type": "text",
    "id": "uf69AeTvFcux"
   },
   "source": [
    "### 1c. Subsetting accordingly\n",
    "\n",
    "Let's select only those columns that we want to work with from both datasets. We'll overwrite the subsets in the original variables."
   ]
  },
  {
   "cell_type": "code",
   "execution_count": 164,
   "metadata": {
    "colab": {},
    "colab_type": "code",
    "id": "LNSDXyjdFcuy"
   },
   "outputs": [
    {
     "data": {
      "text/html": [
       "<div>\n",
       "<style scoped>\n",
       "    .dataframe tbody tr th:only-of-type {\n",
       "        vertical-align: middle;\n",
       "    }\n",
       "\n",
       "    .dataframe tbody tr th {\n",
       "        vertical-align: top;\n",
       "    }\n",
       "\n",
       "    .dataframe thead th {\n",
       "        text-align: right;\n",
       "    }\n",
       "</style>\n",
       "<table border=\"1\" class=\"dataframe\">\n",
       "  <thead>\n",
       "    <tr style=\"text-align: right;\">\n",
       "      <th></th>\n",
       "      <th>Category</th>\n",
       "      <th>Rating</th>\n",
       "      <th>Reviews</th>\n",
       "      <th>Price</th>\n",
       "    </tr>\n",
       "  </thead>\n",
       "  <tbody>\n",
       "    <tr>\n",
       "      <th>0</th>\n",
       "      <td>ART_AND_DESIGN</td>\n",
       "      <td>4.1</td>\n",
       "      <td>159</td>\n",
       "      <td>0</td>\n",
       "    </tr>\n",
       "    <tr>\n",
       "      <th>1</th>\n",
       "      <td>ART_AND_DESIGN</td>\n",
       "      <td>3.9</td>\n",
       "      <td>967</td>\n",
       "      <td>0</td>\n",
       "    </tr>\n",
       "    <tr>\n",
       "      <th>2</th>\n",
       "      <td>ART_AND_DESIGN</td>\n",
       "      <td>4.7</td>\n",
       "      <td>87510</td>\n",
       "      <td>0</td>\n",
       "    </tr>\n",
       "  </tbody>\n",
       "</table>\n",
       "</div>"
      ],
      "text/plain": [
       "         Category  Rating Reviews Price\n",
       "0  ART_AND_DESIGN     4.1     159     0\n",
       "1  ART_AND_DESIGN     3.9     967     0\n",
       "2  ART_AND_DESIGN     4.7   87510     0"
      ]
     },
     "execution_count": 164,
     "metadata": {},
     "output_type": "execute_result"
    }
   ],
   "source": [
    "# Subset our DataFrame object Google by selecting just the variables ['Category', 'Rating', 'Reviews', 'Price']\n",
    "Google = Google[['Category', 'Rating', 'Reviews', 'Price']]\n",
    "# Check the first three entries\n",
    "Google.head(3)"
   ]
  },
  {
   "cell_type": "code",
   "execution_count": 165,
   "metadata": {
    "colab": {},
    "colab_type": "code",
    "id": "AVCtENPtFcu0"
   },
   "outputs": [
    {
     "data": {
      "text/html": [
       "<div>\n",
       "<style scoped>\n",
       "    .dataframe tbody tr th:only-of-type {\n",
       "        vertical-align: middle;\n",
       "    }\n",
       "\n",
       "    .dataframe tbody tr th {\n",
       "        vertical-align: top;\n",
       "    }\n",
       "\n",
       "    .dataframe thead th {\n",
       "        text-align: right;\n",
       "    }\n",
       "</style>\n",
       "<table border=\"1\" class=\"dataframe\">\n",
       "  <thead>\n",
       "    <tr style=\"text-align: right;\">\n",
       "      <th></th>\n",
       "      <th>prime_genre</th>\n",
       "      <th>user_rating</th>\n",
       "      <th>rating_count_tot</th>\n",
       "      <th>price</th>\n",
       "    </tr>\n",
       "  </thead>\n",
       "  <tbody>\n",
       "    <tr>\n",
       "      <th>0</th>\n",
       "      <td>Games</td>\n",
       "      <td>4.0</td>\n",
       "      <td>21292</td>\n",
       "      <td>3.99</td>\n",
       "    </tr>\n",
       "    <tr>\n",
       "      <th>1</th>\n",
       "      <td>Productivity</td>\n",
       "      <td>4.0</td>\n",
       "      <td>161065</td>\n",
       "      <td>0.00</td>\n",
       "    </tr>\n",
       "    <tr>\n",
       "      <th>2</th>\n",
       "      <td>Weather</td>\n",
       "      <td>3.5</td>\n",
       "      <td>188583</td>\n",
       "      <td>0.00</td>\n",
       "    </tr>\n",
       "  </tbody>\n",
       "</table>\n",
       "</div>"
      ],
      "text/plain": [
       "    prime_genre  user_rating  rating_count_tot  price\n",
       "0         Games          4.0             21292   3.99\n",
       "1  Productivity          4.0            161065   0.00\n",
       "2       Weather          3.5            188583   0.00"
      ]
     },
     "execution_count": 165,
     "metadata": {},
     "output_type": "execute_result"
    }
   ],
   "source": [
    "# Do the same with our Apple object, selecting just the variables ['prime_genre', 'user_rating', 'rating_count_tot', 'price']\n",
    "Apple = Apple[['prime_genre', 'user_rating', 'rating_count_tot', 'price']]\n",
    "\n",
    "# Let's check the first three entries\n",
    "Apple.head(3)"
   ]
  },
  {
   "cell_type": "markdown",
   "metadata": {
    "colab_type": "text",
    "id": "wwK2wH-rFcu2"
   },
   "source": [
    "## Stage 2 -  Cleaning, transforming and visualizing"
   ]
  },
  {
   "cell_type": "markdown",
   "metadata": {
    "colab_type": "text",
    "id": "NsoE5x0JFcu3"
   },
   "source": [
    "### 2a. Check the data types for both Apple and Google, and fix them\n",
    "\n",
    "Types are crucial for data science in Python. Let's determine whether the variables we selected in the previous section belong to the types they should do, or whether there are any errors here. "
   ]
  },
  {
   "cell_type": "code",
   "execution_count": 166,
   "metadata": {
    "colab": {},
    "colab_type": "code",
    "id": "ymw10SaWFcu4"
   },
   "outputs": [
    {
     "data": {
      "text/plain": [
       "prime_genre          object\n",
       "user_rating         float64\n",
       "rating_count_tot      int64\n",
       "price               float64\n",
       "dtype: object"
      ]
     },
     "execution_count": 166,
     "metadata": {},
     "output_type": "execute_result"
    }
   ],
   "source": [
    "# Using the dtypes feature of pandas DataFrame objects, check out the data types within our Apple dataframe.\n",
    "# Are they what you expect?\n",
    "Apple.dtypes"
   ]
  },
  {
   "cell_type": "markdown",
   "metadata": {
    "colab_type": "text",
    "id": "VAiM6jIxFcu6"
   },
   "source": [
    "This is looking healthy. But what about our Google data frame?"
   ]
  },
  {
   "cell_type": "code",
   "execution_count": 167,
   "metadata": {
    "colab": {},
    "colab_type": "code",
    "id": "kmP8MhqyFcu7",
    "scrolled": true
   },
   "outputs": [
    {
     "data": {
      "text/plain": [
       "Category     object\n",
       "Rating      float64\n",
       "Reviews      object\n",
       "Price        object\n",
       "dtype: object"
      ]
     },
     "execution_count": 167,
     "metadata": {},
     "output_type": "execute_result"
    }
   ],
   "source": [
    "# Using the same dtypes feature, check out the data types of our Google dataframe. \n",
    "Google.dtypes"
   ]
  },
  {
   "cell_type": "markdown",
   "metadata": {
    "colab_type": "text",
    "id": "O-dxAy0WFcu9"
   },
   "source": [
    "Weird. The data type for the column 'Price' is 'object', not a numeric data type like a float or an integer. Let's investigate the unique values of this column. "
   ]
  },
  {
   "cell_type": "code",
   "execution_count": 168,
   "metadata": {
    "colab": {},
    "colab_type": "code",
    "id": "Hu08K9y7Fcu9"
   },
   "outputs": [
    {
     "data": {
      "text/plain": [
       "array(['0', '$4.99', '$3.99', '$6.99', '$1.49', '$2.99', '$7.99', '$5.99',\n",
       "       '$3.49', '$1.99', '$9.99', '$7.49', '$0.99', '$9.00', '$5.49',\n",
       "       '$10.00', '$24.99', '$11.99', '$79.99', '$16.99', '$14.99',\n",
       "       '$1.00', '$29.99', '$12.99', '$2.49', '$10.99', '$1.50', '$19.99',\n",
       "       '$15.99', '$33.99', '$74.99', '$39.99', '$3.95', '$4.49', '$1.70',\n",
       "       '$8.99', '$2.00', '$3.88', '$25.99', '$399.99', '$17.99',\n",
       "       '$400.00', '$3.02', '$1.76', '$4.84', '$4.77', '$1.61', '$2.50',\n",
       "       '$1.59', '$6.49', '$1.29', '$5.00', '$13.99', '$299.99', '$379.99',\n",
       "       '$37.99', '$18.99', '$389.99', '$19.90', '$8.49', '$1.75',\n",
       "       '$14.00', '$4.85', '$46.99', '$109.99', '$154.99', '$3.08',\n",
       "       '$2.59', '$4.80', '$1.96', '$19.40', '$3.90', '$4.59', '$15.46',\n",
       "       '$3.04', '$4.29', '$2.60', '$3.28', '$4.60', '$28.99', '$2.95',\n",
       "       '$2.90', '$1.97', '$200.00', '$89.99', '$2.56', '$30.99', '$3.61',\n",
       "       '$394.99', '$1.26', 'Everyone', '$1.20', '$1.04'], dtype=object)"
      ]
     },
     "execution_count": 168,
     "metadata": {},
     "output_type": "execute_result"
    }
   ],
   "source": [
    "# Use the unique() pandas method on the Price column to check its unique values. \n",
    "Google.Price.unique()"
   ]
  },
  {
   "cell_type": "markdown",
   "metadata": {
    "colab_type": "text",
    "id": "w_7nkogFFcu_"
   },
   "source": [
    "Aha! Fascinating. There are actually two issues here. \n",
    "\n",
    "- Firstly, there's a price called `Everyone`. That is a massive mistake! \n",
    "- Secondly, there are dollar symbols everywhere! \n",
    "\n",
    "\n",
    "Let's address the first issue first. Let's check the datapoints that have the price value `Everyone`"
   ]
  },
  {
   "cell_type": "code",
   "execution_count": 169,
   "metadata": {
    "colab": {},
    "colab_type": "code",
    "id": "E75WWmhdFcvA",
    "scrolled": true
   },
   "outputs": [
    {
     "data": {
      "text/plain": [
       "10472    Everyone\n",
       "Name: Price, dtype: object"
      ]
     },
     "execution_count": 169,
     "metadata": {},
     "output_type": "execute_result"
    }
   ],
   "source": [
    "# Let's check which data points have the value 'Everyone' for the 'Price' column by subsetting our Google dataframe.\n",
    "\n",
    "# Subset the Google dataframe on the price column. \n",
    "# To be sure: you want to pick out just those rows whose value for the 'Price' column is just 'Everyone'. \n",
    "Google['Price'].loc[Google['Price'] == 'Everyone']"
   ]
  },
  {
   "cell_type": "markdown",
   "metadata": {
    "colab_type": "text",
    "id": "ezfLshdRFcvC"
   },
   "source": [
    "Thankfully, it's just one row. We've gotta get rid of it. "
   ]
  },
  {
   "cell_type": "code",
   "execution_count": 170,
   "metadata": {
    "colab": {},
    "colab_type": "code",
    "id": "DBmjUQUkFcvD"
   },
   "outputs": [
    {
     "data": {
      "text/plain": [
       "array(['0', '$4.99', '$3.99', '$6.99', '$1.49', '$2.99', '$7.99', '$5.99',\n",
       "       '$3.49', '$1.99', '$9.99', '$7.49', '$0.99', '$9.00', '$5.49',\n",
       "       '$10.00', '$24.99', '$11.99', '$79.99', '$16.99', '$14.99',\n",
       "       '$1.00', '$29.99', '$12.99', '$2.49', '$10.99', '$1.50', '$19.99',\n",
       "       '$15.99', '$33.99', '$74.99', '$39.99', '$3.95', '$4.49', '$1.70',\n",
       "       '$8.99', '$2.00', '$3.88', '$25.99', '$399.99', '$17.99',\n",
       "       '$400.00', '$3.02', '$1.76', '$4.84', '$4.77', '$1.61', '$2.50',\n",
       "       '$1.59', '$6.49', '$1.29', '$5.00', '$13.99', '$299.99', '$379.99',\n",
       "       '$37.99', '$18.99', '$389.99', '$19.90', '$8.49', '$1.75',\n",
       "       '$14.00', '$4.85', '$46.99', '$109.99', '$154.99', '$3.08',\n",
       "       '$2.59', '$4.80', '$1.96', '$19.40', '$3.90', '$4.59', '$15.46',\n",
       "       '$3.04', '$4.29', '$2.60', '$3.28', '$4.60', '$28.99', '$2.95',\n",
       "       '$2.90', '$1.97', '$200.00', '$89.99', '$2.56', '$30.99', '$3.61',\n",
       "       '$394.99', '$1.26', '$1.20', '$1.04'], dtype=object)"
      ]
     },
     "execution_count": 170,
     "metadata": {},
     "output_type": "execute_result"
    }
   ],
   "source": [
    "# Let's eliminate that row. \n",
    "\n",
    "# Subset our Google dataframe to pick out just those rows whose value for the 'Price' column is NOT 'Everyone'. \n",
    "# Reassign that subset to the Google variable. \n",
    "# You can do this in two lines or one. Your choice! \n",
    "Google = Google.loc[Google['Price'] != 'Everyone']\n",
    "\n",
    "# Check again the unique values of Google\n",
    "Google['Price'].unique()"
   ]
  },
  {
   "cell_type": "markdown",
   "metadata": {
    "colab_type": "text",
    "id": "T43TB4qFFcvF"
   },
   "source": [
    "Our second problem remains: I'm seeing dollar symbols when I close my eyes! (And not in a good way). \n",
    "\n",
    "This is a problem because Python actually considers these values strings. So we can't do mathematical and statistical operations on them until we've made them into numbers. "
   ]
  },
  {
   "cell_type": "code",
   "execution_count": 171,
   "metadata": {
    "colab": {},
    "colab_type": "code",
    "id": "W87gVS9BFcvG",
    "scrolled": true
   },
   "outputs": [
    {
     "data": {
      "text/plain": [
       "0        0.0\n",
       "1        0.0\n",
       "2        0.0\n",
       "3        0.0\n",
       "4        0.0\n",
       "        ... \n",
       "10836    0.0\n",
       "10837    0.0\n",
       "10838    0.0\n",
       "10839    0.0\n",
       "10840    0.0\n",
       "Name: Price, Length: 10840, dtype: float64"
      ]
     },
     "execution_count": 171,
     "metadata": {},
     "output_type": "execute_result"
    }
   ],
   "source": [
    "# Let's create a variable called nosymb.\n",
    "# This variable will take the Price column of Google and apply the str.replace() method. \n",
    "nosymb = Google['Price'].str.replace('$', '')\n",
    "\n",
    "# Now we need to do two things:\n",
    "# i. Make the values in the nosymb variable numeric using the to_numeric() pandas method.\n",
    "# ii. Assign this new set of numeric, dollar-sign-less values to Google['Price']. \n",
    "# You can do this in one line if you wish.\n",
    "Google['Price'] = pd.to_numeric(nosymb)\n",
    "Google['Price']"
   ]
  },
  {
   "cell_type": "markdown",
   "metadata": {
    "colab_type": "text",
    "id": "LxpJQ9yyFcvI"
   },
   "source": [
    "Now let's check the data types for our Google dataframe again, to verify that the 'Price' column really is numeric now."
   ]
  },
  {
   "cell_type": "code",
   "execution_count": 172,
   "metadata": {
    "colab": {},
    "colab_type": "code",
    "id": "Fn5Gt-QbFcvI"
   },
   "outputs": [
    {
     "data": {
      "text/plain": [
       "Category     object\n",
       "Rating      float64\n",
       "Reviews      object\n",
       "Price       float64\n",
       "dtype: object"
      ]
     },
     "execution_count": 172,
     "metadata": {},
     "output_type": "execute_result"
    }
   ],
   "source": [
    "# Use the function dtypes. \n",
    "Google.dtypes"
   ]
  },
  {
   "cell_type": "markdown",
   "metadata": {
    "colab_type": "text",
    "id": "FgfuiVo0FcvK"
   },
   "source": [
    "Notice that the column `Reviews` is still an object column. We actually need this column to be a numeric column, too. "
   ]
  },
  {
   "cell_type": "code",
   "execution_count": 173,
   "metadata": {
    "colab": {},
    "colab_type": "code",
    "id": "MiVEWsWBFcvL"
   },
   "outputs": [],
   "source": [
    "# Convert the 'Reviews' column to a numeric data type. \n",
    "Google['Reviews'] = pd.to_numeric(Google['Reviews'])"
   ]
  },
  {
   "cell_type": "code",
   "execution_count": 174,
   "metadata": {
    "colab": {},
    "colab_type": "code",
    "id": "wWJdXXTTFcvN"
   },
   "outputs": [
    {
     "data": {
      "text/plain": [
       "Category     object\n",
       "Rating      float64\n",
       "Reviews       int64\n",
       "Price       float64\n",
       "dtype: object"
      ]
     },
     "execution_count": 174,
     "metadata": {},
     "output_type": "execute_result"
    }
   ],
   "source": [
    "# Let's check the data types of Google again\n",
    "Google.dtypes"
   ]
  },
  {
   "cell_type": "markdown",
   "metadata": {
    "colab_type": "text",
    "id": "OiLm2GEKFcvP"
   },
   "source": [
    "### 2b. Add a `platform` column to both the `Apple` and the `Google` dataframes\n",
    "Let's add a new column to both dataframe objects called `platform`: all of its values in the Google dataframe will be just 'google', and all of its values for the Apple dataframe will be just 'apple'. \n",
    "\n",
    "The reason we're making this column is so that we can ultimately join our Apple and Google data together, and actually test out some hypotheses to solve the problem in our brief. "
   ]
  },
  {
   "cell_type": "code",
   "execution_count": 175,
   "metadata": {
    "colab": {},
    "colab_type": "code",
    "id": "mF-sOcx2FcvQ"
   },
   "outputs": [],
   "source": [
    "# Create a column called 'platform' in both the Apple and Google dataframes. \n",
    "# Add the value 'apple' and the value 'google' as appropriate. \n",
    "Google['Platform'] = 'google'\n",
    "Apple['Platform'] = 'apple'"
   ]
  },
  {
   "cell_type": "markdown",
   "metadata": {
    "colab_type": "text",
    "id": "EJcry17IFcvS"
   },
   "source": [
    "### 2c. Changing the column names to prepare for our join of the two datasets \n",
    "Since the easiest way to join two datasets is if they have both:\n",
    "- the same number of columns\n",
    "- the same column names\n",
    "we need to rename the columns of `Apple` so that they're the same as the ones of `Google`, or vice versa.\n",
    "\n",
    "In this case, we're going to change the `Apple` columns names to the names of the `Google` columns. \n",
    "\n",
    "This is an important step to unify the two datasets!"
   ]
  },
  {
   "cell_type": "code",
   "execution_count": 176,
   "metadata": {
    "colab": {},
    "colab_type": "code",
    "id": "bdt9XH2KFcvT",
    "scrolled": true
   },
   "outputs": [],
   "source": [
    "# Create a variable called old_names where you'll store the column names of the Apple dataframe. \n",
    "# Use the feature .columns.\n",
    "old_names = Apple.columns\n",
    "\n",
    "# Create a variable called new_names where you'll store the column names of the Google dataframe. \n",
    "new_names = Google.columns\n",
    "# Use the rename() DataFrame method to change the columns names. \n",
    "Apple.columns = new_names"
   ]
  },
  {
   "cell_type": "markdown",
   "metadata": {
    "colab_type": "text",
    "id": "qewPiLrRFcvX"
   },
   "source": [
    "### 2d. Join the two datasets \n",
    "Let's combine the two datasets into a single data frame called `df`."
   ]
  },
  {
   "cell_type": "code",
   "execution_count": 177,
   "metadata": {
    "colab": {},
    "colab_type": "code",
    "id": "jq6fGfvyFcvY"
   },
   "outputs": [
    {
     "data": {
      "text/html": [
       "<div>\n",
       "<style scoped>\n",
       "    .dataframe tbody tr th:only-of-type {\n",
       "        vertical-align: middle;\n",
       "    }\n",
       "\n",
       "    .dataframe tbody tr th {\n",
       "        vertical-align: top;\n",
       "    }\n",
       "\n",
       "    .dataframe thead th {\n",
       "        text-align: right;\n",
       "    }\n",
       "</style>\n",
       "<table border=\"1\" class=\"dataframe\">\n",
       "  <thead>\n",
       "    <tr style=\"text-align: right;\">\n",
       "      <th></th>\n",
       "      <th>Category</th>\n",
       "      <th>Rating</th>\n",
       "      <th>Reviews</th>\n",
       "      <th>Price</th>\n",
       "      <th>Platform</th>\n",
       "    </tr>\n",
       "  </thead>\n",
       "  <tbody>\n",
       "    <tr>\n",
       "      <th>9353</th>\n",
       "      <td>GAME</td>\n",
       "      <td>4.0</td>\n",
       "      <td>30008</td>\n",
       "      <td>0.0</td>\n",
       "      <td>google</td>\n",
       "    </tr>\n",
       "    <tr>\n",
       "      <th>5752</th>\n",
       "      <td>Social Networking</td>\n",
       "      <td>0.0</td>\n",
       "      <td>0</td>\n",
       "      <td>0.0</td>\n",
       "      <td>apple</td>\n",
       "    </tr>\n",
       "    <tr>\n",
       "      <th>6411</th>\n",
       "      <td>Games</td>\n",
       "      <td>4.5</td>\n",
       "      <td>105</td>\n",
       "      <td>0.0</td>\n",
       "      <td>apple</td>\n",
       "    </tr>\n",
       "    <tr>\n",
       "      <th>632</th>\n",
       "      <td>DATING</td>\n",
       "      <td>NaN</td>\n",
       "      <td>0</td>\n",
       "      <td>0.0</td>\n",
       "      <td>google</td>\n",
       "    </tr>\n",
       "    <tr>\n",
       "      <th>553</th>\n",
       "      <td>DATING</td>\n",
       "      <td>4.1</td>\n",
       "      <td>305708</td>\n",
       "      <td>0.0</td>\n",
       "      <td>google</td>\n",
       "    </tr>\n",
       "    <tr>\n",
       "      <th>1510</th>\n",
       "      <td>Utilities</td>\n",
       "      <td>0.0</td>\n",
       "      <td>0</td>\n",
       "      <td>0.0</td>\n",
       "      <td>apple</td>\n",
       "    </tr>\n",
       "    <tr>\n",
       "      <th>2144</th>\n",
       "      <td>FAMILY</td>\n",
       "      <td>4.2</td>\n",
       "      <td>731</td>\n",
       "      <td>0.0</td>\n",
       "      <td>google</td>\n",
       "    </tr>\n",
       "    <tr>\n",
       "      <th>9499</th>\n",
       "      <td>SOCIAL</td>\n",
       "      <td>4.8</td>\n",
       "      <td>725</td>\n",
       "      <td>0.0</td>\n",
       "      <td>google</td>\n",
       "    </tr>\n",
       "    <tr>\n",
       "      <th>642</th>\n",
       "      <td>DATING</td>\n",
       "      <td>NaN</td>\n",
       "      <td>0</td>\n",
       "      <td>0.0</td>\n",
       "      <td>google</td>\n",
       "    </tr>\n",
       "    <tr>\n",
       "      <th>6282</th>\n",
       "      <td>BUSINESS</td>\n",
       "      <td>4.7</td>\n",
       "      <td>45</td>\n",
       "      <td>0.0</td>\n",
       "      <td>google</td>\n",
       "    </tr>\n",
       "    <tr>\n",
       "      <th>2935</th>\n",
       "      <td>PHOTOGRAPHY</td>\n",
       "      <td>4.4</td>\n",
       "      <td>2418158</td>\n",
       "      <td>0.0</td>\n",
       "      <td>google</td>\n",
       "    </tr>\n",
       "    <tr>\n",
       "      <th>3392</th>\n",
       "      <td>PERSONALIZATION</td>\n",
       "      <td>4.3</td>\n",
       "      <td>2056</td>\n",
       "      <td>0.0</td>\n",
       "      <td>google</td>\n",
       "    </tr>\n",
       "  </tbody>\n",
       "</table>\n",
       "</div>"
      ],
      "text/plain": [
       "               Category  Rating  Reviews  Price Platform\n",
       "9353               GAME     4.0    30008    0.0   google\n",
       "5752  Social Networking     0.0        0    0.0    apple\n",
       "6411              Games     4.5      105    0.0    apple\n",
       "632              DATING     NaN        0    0.0   google\n",
       "553              DATING     4.1   305708    0.0   google\n",
       "1510          Utilities     0.0        0    0.0    apple\n",
       "2144             FAMILY     4.2      731    0.0   google\n",
       "9499             SOCIAL     4.8      725    0.0   google\n",
       "642              DATING     NaN        0    0.0   google\n",
       "6282           BUSINESS     4.7       45    0.0   google\n",
       "2935        PHOTOGRAPHY     4.4  2418158    0.0   google\n",
       "3392    PERSONALIZATION     4.3     2056    0.0   google"
      ]
     },
     "execution_count": 177,
     "metadata": {},
     "output_type": "execute_result"
    }
   ],
   "source": [
    "# Let's use the append() method to append Apple to Google. \n",
    "df = Apple.append(Google)\n",
    "\n",
    "# Using the sample() method with the number 12 passed to it, check 12 random points of your dataset.\n",
    "df.sample(12)"
   ]
  },
  {
   "cell_type": "markdown",
   "metadata": {
    "colab_type": "text",
    "id": "FjqsHugWFcvb"
   },
   "source": [
    "### 2e. Eliminate the NaN values\n",
    "\n",
    "As you can see there are some `NaN` values. We want to eliminate all these `NaN` values from the table."
   ]
  },
  {
   "cell_type": "code",
   "execution_count": 178,
   "metadata": {
    "colab": {},
    "colab_type": "code",
    "id": "Gp2q6GLyFcvb"
   },
   "outputs": [
    {
     "name": "stdout",
     "output_type": "stream",
     "text": [
      "(18037, 5)\n"
     ]
    },
    {
     "data": {
      "text/plain": [
       "(16563, 5)"
      ]
     },
     "execution_count": 178,
     "metadata": {},
     "output_type": "execute_result"
    }
   ],
   "source": [
    "# Lets check first the dimesions of df before droping `NaN` values. Use the .shape feature. \n",
    "print(df.shape)\n",
    "\n",
    "# Use the dropna() method to eliminate all the NaN values, and overwrite the same dataframe with the result. \n",
    "df = df.dropna()\n",
    "\n",
    "# Check the new dimesions of our dataframe. \n",
    "df.shape"
   ]
  },
  {
   "cell_type": "markdown",
   "metadata": {
    "colab_type": "text",
    "id": "qtfeQKtAFcvd"
   },
   "source": [
    "### 2f. Filter the data so that we only see whose apps that have been reviewed at least once\n",
    "\n",
    "Apps that haven't been reviewed yet can't help us solve our brief. \n",
    "\n",
    "So let's check to see if any apps have no reviews at all. "
   ]
  },
  {
   "cell_type": "code",
   "execution_count": 179,
   "metadata": {
    "colab": {},
    "colab_type": "code",
    "id": "Ge9OKXLNFcvd"
   },
   "outputs": [
    {
     "data": {
      "text/plain": [
       "Category    929\n",
       "Rating      929\n",
       "Reviews     929\n",
       "Price       929\n",
       "Platform    929\n",
       "dtype: int64"
      ]
     },
     "execution_count": 179,
     "metadata": {},
     "output_type": "execute_result"
    }
   ],
   "source": [
    "# Subset your df to pick out just those rows whose value for 'Reviews' is equal to 0. \n",
    "# Do a count() on the result. \n",
    "x = df[df['Reviews'] == 0]\n",
    "x.count()"
   ]
  },
  {
   "cell_type": "markdown",
   "metadata": {
    "colab_type": "text",
    "id": "05f7H0kAFcvg"
   },
   "source": [
    "929 apps do not have reviews, we need to eliminate these points!"
   ]
  },
  {
   "cell_type": "code",
   "execution_count": 180,
   "metadata": {
    "colab": {},
    "colab_type": "code",
    "id": "pD8vmPjkFcvg"
   },
   "outputs": [],
   "source": [
    "# Eliminate the points that have 0 reviews.\n",
    "df = df[df['Reviews'] >= 1]"
   ]
  },
  {
   "cell_type": "markdown",
   "metadata": {
    "colab_type": "text",
    "id": "ApnKES_bFcvi"
   },
   "source": [
    "### 2g. Summarize the data visually and analytically (by the column `platform`)"
   ]
  },
  {
   "cell_type": "markdown",
   "metadata": {
    "colab_type": "text",
    "id": "2smt9UocFcvj"
   },
   "source": [
    "What we need to solve our brief is a summary of the `Rating` column, but separated by the different platforms."
   ]
  },
  {
   "cell_type": "code",
   "execution_count": 181,
   "metadata": {
    "colab": {},
    "colab_type": "code",
    "id": "Vqckt347Fcvj"
   },
   "outputs": [
    {
     "data": {
      "text/html": [
       "<div>\n",
       "<style scoped>\n",
       "    .dataframe tbody tr th:only-of-type {\n",
       "        vertical-align: middle;\n",
       "    }\n",
       "\n",
       "    .dataframe tbody tr th {\n",
       "        vertical-align: top;\n",
       "    }\n",
       "\n",
       "    .dataframe thead tr th {\n",
       "        text-align: left;\n",
       "    }\n",
       "\n",
       "    .dataframe thead tr:last-of-type th {\n",
       "        text-align: right;\n",
       "    }\n",
       "</style>\n",
       "<table border=\"1\" class=\"dataframe\">\n",
       "  <thead>\n",
       "    <tr>\n",
       "      <th></th>\n",
       "      <th colspan=\"8\" halign=\"left\">Rating</th>\n",
       "      <th colspan=\"5\" halign=\"left\">Reviews</th>\n",
       "      <th colspan=\"8\" halign=\"left\">Price</th>\n",
       "    </tr>\n",
       "    <tr>\n",
       "      <th></th>\n",
       "      <th>count</th>\n",
       "      <th>mean</th>\n",
       "      <th>std</th>\n",
       "      <th>min</th>\n",
       "      <th>25%</th>\n",
       "      <th>50%</th>\n",
       "      <th>75%</th>\n",
       "      <th>max</th>\n",
       "      <th>count</th>\n",
       "      <th>mean</th>\n",
       "      <th>...</th>\n",
       "      <th>75%</th>\n",
       "      <th>max</th>\n",
       "      <th>count</th>\n",
       "      <th>mean</th>\n",
       "      <th>std</th>\n",
       "      <th>min</th>\n",
       "      <th>25%</th>\n",
       "      <th>50%</th>\n",
       "      <th>75%</th>\n",
       "      <th>max</th>\n",
       "    </tr>\n",
       "    <tr>\n",
       "      <th>Platform</th>\n",
       "      <th></th>\n",
       "      <th></th>\n",
       "      <th></th>\n",
       "      <th></th>\n",
       "      <th></th>\n",
       "      <th></th>\n",
       "      <th></th>\n",
       "      <th></th>\n",
       "      <th></th>\n",
       "      <th></th>\n",
       "      <th></th>\n",
       "      <th></th>\n",
       "      <th></th>\n",
       "      <th></th>\n",
       "      <th></th>\n",
       "      <th></th>\n",
       "      <th></th>\n",
       "      <th></th>\n",
       "      <th></th>\n",
       "      <th></th>\n",
       "      <th></th>\n",
       "    </tr>\n",
       "  </thead>\n",
       "  <tbody>\n",
       "    <tr>\n",
       "      <th>apple</th>\n",
       "      <td>6268.0</td>\n",
       "      <td>4.049697</td>\n",
       "      <td>0.726943</td>\n",
       "      <td>1.0</td>\n",
       "      <td>4.0</td>\n",
       "      <td>4.5</td>\n",
       "      <td>4.5</td>\n",
       "      <td>5.0</td>\n",
       "      <td>6268.0</td>\n",
       "      <td>14803.805520</td>\n",
       "      <td>...</td>\n",
       "      <td>3963.50</td>\n",
       "      <td>2974676.0</td>\n",
       "      <td>6268.0</td>\n",
       "      <td>1.821977</td>\n",
       "      <td>6.128238</td>\n",
       "      <td>0.0</td>\n",
       "      <td>0.0</td>\n",
       "      <td>0.0</td>\n",
       "      <td>2.99</td>\n",
       "      <td>299.99</td>\n",
       "    </tr>\n",
       "    <tr>\n",
       "      <th>google</th>\n",
       "      <td>9366.0</td>\n",
       "      <td>4.191757</td>\n",
       "      <td>0.515219</td>\n",
       "      <td>1.0</td>\n",
       "      <td>4.0</td>\n",
       "      <td>4.3</td>\n",
       "      <td>4.5</td>\n",
       "      <td>5.0</td>\n",
       "      <td>9366.0</td>\n",
       "      <td>514049.836536</td>\n",
       "      <td>...</td>\n",
       "      <td>81532.75</td>\n",
       "      <td>78158306.0</td>\n",
       "      <td>9366.0</td>\n",
       "      <td>0.960928</td>\n",
       "      <td>15.816585</td>\n",
       "      <td>0.0</td>\n",
       "      <td>0.0</td>\n",
       "      <td>0.0</td>\n",
       "      <td>0.00</td>\n",
       "      <td>400.00</td>\n",
       "    </tr>\n",
       "  </tbody>\n",
       "</table>\n",
       "<p>2 rows × 24 columns</p>\n",
       "</div>"
      ],
      "text/plain": [
       "          Rating                                              Reviews  \\\n",
       "           count      mean       std  min  25%  50%  75%  max   count   \n",
       "Platform                                                                \n",
       "apple     6268.0  4.049697  0.726943  1.0  4.0  4.5  4.5  5.0  6268.0   \n",
       "google    9366.0  4.191757  0.515219  1.0  4.0  4.3  4.5  5.0  9366.0   \n",
       "\n",
       "                         ...                         Price            \\\n",
       "                   mean  ...       75%         max   count      mean   \n",
       "Platform                 ...                                           \n",
       "apple      14803.805520  ...   3963.50   2974676.0  6268.0  1.821977   \n",
       "google    514049.836536  ...  81532.75  78158306.0  9366.0  0.960928   \n",
       "\n",
       "                                                  \n",
       "                std  min  25%  50%   75%     max  \n",
       "Platform                                          \n",
       "apple      6.128238  0.0  0.0  0.0  2.99  299.99  \n",
       "google    15.816585  0.0  0.0  0.0  0.00  400.00  \n",
       "\n",
       "[2 rows x 24 columns]"
      ]
     },
     "execution_count": 181,
     "metadata": {},
     "output_type": "execute_result"
    }
   ],
   "source": [
    "# To summarize analytically, let's use the groupby() method on our df.\n",
    "df.groupby('Platform').describe()"
   ]
  },
  {
   "cell_type": "markdown",
   "metadata": {
    "colab_type": "text",
    "id": "8f9TqMtKFcvl"
   },
   "source": [
    "Interesting! Our means of 4.049697 and 4.191757 don't **seem** all that different! Perhaps we've solved our brief already: there's no significant difference between Google Play app reviews and Apple Store app reviews. We have an ***observed difference*** here: which is simply (4.191757 - 4.049697) = 0.14206. This is just the actual difference that we observed between the mean rating for apps from Google Play, and the mean rating for apps from the Apple Store. Let's look at how we're going to use this observed difference to solve our problem using a statistical test. \n",
    "\n",
    "**Outline of our method:**\n",
    "1. We'll assume that platform (i.e, whether the app was Google or Apple) really doesn’t impact on ratings. \n",
    "\n",
    "\n",
    "2. Given this assumption, we should actually be able to get a difference in mean rating for Apple apps and mean rating for Google apps that's pretty similar to the one we actually got (0.14206) just by: \n",
    "a. shuffling the ratings column, \n",
    "b. keeping the platform column the same,\n",
    "c. calculating the difference between the mean rating for Apple and the mean rating for Google. \n",
    "\n",
    "\n",
    "3. We can make the shuffle more useful by doing it many times, each time calculating the mean rating for Apple apps and the mean rating for Google apps, and the difference between these means. \n",
    "\n",
    "\n",
    "4. We can then take the mean of all these differences, and this will be called our permutation difference. This permutation difference will be great indicator of what the difference would be if our initial assumption were true and platform really doesn’t impact on ratings. \n",
    "\n",
    "\n",
    "5. Now we do a comparison. If the observed difference looks just like the permutation difference, then we stick with the claim that actually, platform doesn’t impact on ratings. If instead, however, the permutation difference differs significantly from the observed difference, we'll conclude: something's going on; the platform does in fact impact on ratings. \n",
    "\n",
    "\n",
    "6. As for what the definition of *significantly* is, we'll get to that. But there’s a brief summary of what we're going to do. Exciting!\n",
    "\n",
    "If you want to look more deeply at the statistics behind this project, check out [this resource](https://www.springboard.com/archeio/download/4ea4d453b0b84014bcef287c50f47f00/)."
   ]
  },
  {
   "cell_type": "markdown",
   "metadata": {
    "colab_type": "text",
    "id": "d6EhTxArFcvm"
   },
   "source": [
    "Let's also get a **visual summary** of the `Rating` column, separated by the different platforms. \n",
    "\n",
    "A good tool to use here is the boxplot!"
   ]
  },
  {
   "cell_type": "code",
   "execution_count": 182,
   "metadata": {
    "colab": {},
    "colab_type": "code",
    "id": "hFKjrlWgFcvm"
   },
   "outputs": [
    {
     "data": {
      "text/plain": [
       "<AxesSubplot:title={'center':'Rating'}, xlabel='Platform'>"
      ]
     },
     "execution_count": 182,
     "metadata": {},
     "output_type": "execute_result"
    },
    {
     "data": {
      "image/png": "[encoded data removed]",
      "text/plain": [
       "<Figure size 432x288 with 1 Axes>"
      ]
     },
     "metadata": {
      "needs_background": "light"
     },
     "output_type": "display_data"
    }
   ],
   "source": [
    "# Call the boxplot() method on our df.\n",
    "df.boxplot(column='Rating', by='Platform')"
   ]
  },
  {
   "cell_type": "markdown",
   "metadata": {
    "colab_type": "text",
    "id": "FqTlAjnmFcvo"
   },
   "source": [
    "Here we see the same information as in the analytical summary, but with a boxplot. Can you see how the boxplot is working here? If you need to revise your boxplots, check out this this [link](https://www.kaggle.com/ramamet4/app-store-apple-data-set-10k-apps). "
   ]
  },
  {
   "cell_type": "markdown",
   "metadata": {
    "colab_type": "text",
    "id": "O8L-s1fgFcvp"
   },
   "source": [
    "## Stage 3 - Modelling"
   ]
  },
  {
   "cell_type": "markdown",
   "metadata": {
    "colab_type": "text",
    "id": "5fbRq2MZFcvq"
   },
   "source": [
    "### 3a. Hypothesis formulation\n",
    "\n",
    "Our **Null hypothesis** is just:\n",
    "\n",
    "**H<sub>null</sub>**: the observed difference in the mean rating of Apple Store and Google Play apps is due to chance (and thus not due to the platform).\n",
    "\n",
    "The more interesting hypothesis is called the **Alternate hypothesis**:\n",
    "\n",
    "**H<sub>alternative</sub>**: the observed difference in the average ratings of apple and google users is not due to chance (and is actually due to platform)\n",
    "\n",
    "We're also going to pick a **significance level** of 0.05. "
   ]
  },
  {
   "cell_type": "markdown",
   "metadata": {
    "colab_type": "text",
    "id": "TjBqkabaFcvq"
   },
   "source": [
    "### 3b. Getting the distribution of the data\n",
    "Now that the hypotheses and significance level are defined, we can select a statistical test to determine which hypothesis to accept. \n",
    "\n",
    "There are many different statistical tests, all with different assumptions. You'll generate an excellent judgement about when to use which statistical tests over the Data Science Career Track course. But in general, one of the most important things to determine is the **distribution of the data**.   "
   ]
  },
  {
   "cell_type": "code",
   "execution_count": 256,
   "metadata": {
    "colab": {},
    "colab_type": "code",
    "id": "bFwVhkeWFcvr"
   },
   "outputs": [],
   "source": [
    "# Create a subset of the column 'Rating' by the different platforms.\n",
    "# Call the subsets 'apple' and 'google' \n",
    "apple = df['Rating'][df['Platform'] == 'apple']\n",
    "google = df['Rating'][df['Platform'] == 'google']"
   ]
  },
  {
   "cell_type": "code",
   "execution_count": 257,
   "metadata": {
    "colab": {},
    "colab_type": "code",
    "id": "oPPFpwPvFcvu"
   },
   "outputs": [
    {
     "data": {
      "text/plain": [
       "NormaltestResult(statistic=1778.9974234584017, pvalue=0.0)"
      ]
     },
     "execution_count": 257,
     "metadata": {},
     "output_type": "execute_result"
    }
   ],
   "source": [
    "# Using the stats.normaltest() method, get an indication of whether the apple data are normally distributed\n",
    "# Save the result in a variable called apple_normal, and print it out\n",
    "apple_normal = stats.normaltest(apple)\n",
    "apple_normal"
   ]
  },
  {
   "cell_type": "code",
   "execution_count": 258,
   "metadata": {
    "colab": {},
    "colab_type": "code",
    "id": "rCdh8a8KFcvw"
   },
   "outputs": [
    {
     "data": {
      "text/plain": [
       "NormaltestResult(statistic=3678.6157187516856, pvalue=0.0)"
      ]
     },
     "execution_count": 258,
     "metadata": {},
     "output_type": "execute_result"
    }
   ],
   "source": [
    "# Do the same with the google data. \n",
    "google_normal = stats.normaltest(google)\n",
    "google_normal"
   ]
  },
  {
   "cell_type": "markdown",
   "metadata": {
    "colab_type": "text",
    "id": "9gDqu21yFcv0"
   },
   "source": [
    "Since the null hypothesis of the normaltest() is that the data are normally distributed, the lower the p-value in the result of this test, the more likely the data are to be non-normal. \n",
    "\n",
    "Since the p-values is 0 for both tests, regardless of what we pick for the significance level, our conclusion is that the data are not normally distributed. \n",
    "\n",
    "We can actually also check out the distribution of the data visually with a histogram. A normal distribution has the following visual characteristics:\n",
    "    - symmetric\n",
    "    - unimodal (one hump)\n",
    "As well as a roughly identical mean, median and mode. "
   ]
  },
  {
   "cell_type": "code",
   "execution_count": 186,
   "metadata": {
    "colab": {},
    "colab_type": "code",
    "id": "P9tT9RjNFcv1"
   },
   "outputs": [
    {
     "data": {
      "text/plain": [
       "(array([  44.,   56.,  106.,  196.,    0.,  383.,  702., 1626., 2663.,\n",
       "         492.]),\n",
       " array([1. , 1.4, 1.8, 2.2, 2.6, 3. , 3.4, 3.8, 4.2, 4.6, 5. ]),\n",
       " <BarContainer object of 10 artists>)"
      ]
     },
     "execution_count": 186,
     "metadata": {},
     "output_type": "execute_result"
    },
    {
     "data": {
      "image/png": "[encoded data removed]",
      "text/plain": [
       "<Figure size 432x288 with 1 Axes>"
      ]
     },
     "metadata": {
      "needs_background": "light"
     },
     "output_type": "display_data"
    }
   ],
   "source": [
    "# Create a histogram of the apple reviews distribution\n",
    "plt.hist(apple)"
   ]
  },
  {
   "cell_type": "code",
   "execution_count": 187,
   "metadata": {
    "colab": {},
    "colab_type": "code",
    "id": "8dE1uC5iFcv2"
   },
   "outputs": [
    {
     "data": {
      "text/plain": [
       "(array([  17.,   18.,   41.,   74.,  137.,  446.,  879., 1662., 4175.,\n",
       "        1917.]),\n",
       " array([1. , 1.4, 1.8, 2.2, 2.6, 3. , 3.4, 3.8, 4.2, 4.6, 5. ]),\n",
       " <BarContainer object of 10 artists>)"
      ]
     },
     "execution_count": 187,
     "metadata": {},
     "output_type": "execute_result"
    },
    {
     "data": {
      "image/png": "[encoded data removed]",
      "text/plain": [
       "<Figure size 432x288 with 1 Axes>"
      ]
     },
     "metadata": {
      "needs_background": "light"
     },
     "output_type": "display_data"
    }
   ],
   "source": [
    "# Create a histogram of the google data\n",
    "plt.hist(google)"
   ]
  },
  {
   "cell_type": "markdown",
   "metadata": {
    "colab_type": "text",
    "id": "QhZV89FzFcv5"
   },
   "source": [
    "### 3c. Permutation test\n",
    "Since the data aren't normally distributed, we're using a *non-parametric* test here. This is simply a label for statistical tests used when the data aren't normally distributed. These tests are extraordinarily powerful due to how few assumptions we need to make.  \n",
    "\n",
    "Check out more about permutations [here.](http://rasbt.github.io/mlxtend/user_guide/evaluate/permutation_test/)"
   ]
  },
  {
   "cell_type": "code",
   "execution_count": 190,
   "metadata": {
    "colab": {},
    "colab_type": "code",
    "id": "bxNhQgpqFcv6",
    "scrolled": true
   },
   "outputs": [
    {
     "data": {
      "text/html": [
       "<div>\n",
       "<style scoped>\n",
       "    .dataframe tbody tr th:only-of-type {\n",
       "        vertical-align: middle;\n",
       "    }\n",
       "\n",
       "    .dataframe tbody tr th {\n",
       "        vertical-align: top;\n",
       "    }\n",
       "\n",
       "    .dataframe thead tr th {\n",
       "        text-align: left;\n",
       "    }\n",
       "\n",
       "    .dataframe thead tr:last-of-type th {\n",
       "        text-align: right;\n",
       "    }\n",
       "</style>\n",
       "<table border=\"1\" class=\"dataframe\">\n",
       "  <thead>\n",
       "    <tr>\n",
       "      <th></th>\n",
       "      <th colspan=\"8\" halign=\"left\">Rating</th>\n",
       "      <th colspan=\"2\" halign=\"left\">Reviews</th>\n",
       "      <th>...</th>\n",
       "      <th colspan=\"2\" halign=\"left\">Price</th>\n",
       "      <th colspan=\"8\" halign=\"left\">Permutation1</th>\n",
       "    </tr>\n",
       "    <tr>\n",
       "      <th></th>\n",
       "      <th>count</th>\n",
       "      <th>mean</th>\n",
       "      <th>std</th>\n",
       "      <th>min</th>\n",
       "      <th>25%</th>\n",
       "      <th>50%</th>\n",
       "      <th>75%</th>\n",
       "      <th>max</th>\n",
       "      <th>count</th>\n",
       "      <th>mean</th>\n",
       "      <th>...</th>\n",
       "      <th>75%</th>\n",
       "      <th>max</th>\n",
       "      <th>count</th>\n",
       "      <th>mean</th>\n",
       "      <th>std</th>\n",
       "      <th>min</th>\n",
       "      <th>25%</th>\n",
       "      <th>50%</th>\n",
       "      <th>75%</th>\n",
       "      <th>max</th>\n",
       "    </tr>\n",
       "    <tr>\n",
       "      <th>Platform</th>\n",
       "      <th></th>\n",
       "      <th></th>\n",
       "      <th></th>\n",
       "      <th></th>\n",
       "      <th></th>\n",
       "      <th></th>\n",
       "      <th></th>\n",
       "      <th></th>\n",
       "      <th></th>\n",
       "      <th></th>\n",
       "      <th></th>\n",
       "      <th></th>\n",
       "      <th></th>\n",
       "      <th></th>\n",
       "      <th></th>\n",
       "      <th></th>\n",
       "      <th></th>\n",
       "      <th></th>\n",
       "      <th></th>\n",
       "      <th></th>\n",
       "      <th></th>\n",
       "    </tr>\n",
       "  </thead>\n",
       "  <tbody>\n",
       "    <tr>\n",
       "      <th>apple</th>\n",
       "      <td>6268.0</td>\n",
       "      <td>4.049697</td>\n",
       "      <td>0.726943</td>\n",
       "      <td>1.0</td>\n",
       "      <td>4.0</td>\n",
       "      <td>4.5</td>\n",
       "      <td>4.5</td>\n",
       "      <td>5.0</td>\n",
       "      <td>6268.0</td>\n",
       "      <td>14803.805520</td>\n",
       "      <td>...</td>\n",
       "      <td>2.99</td>\n",
       "      <td>299.99</td>\n",
       "      <td>6268.0</td>\n",
       "      <td>4.138673</td>\n",
       "      <td>0.614718</td>\n",
       "      <td>1.0</td>\n",
       "      <td>4.0</td>\n",
       "      <td>4.3</td>\n",
       "      <td>4.5</td>\n",
       "      <td>5.0</td>\n",
       "    </tr>\n",
       "    <tr>\n",
       "      <th>google</th>\n",
       "      <td>9366.0</td>\n",
       "      <td>4.191757</td>\n",
       "      <td>0.515219</td>\n",
       "      <td>1.0</td>\n",
       "      <td>4.0</td>\n",
       "      <td>4.3</td>\n",
       "      <td>4.5</td>\n",
       "      <td>5.0</td>\n",
       "      <td>9366.0</td>\n",
       "      <td>514049.836536</td>\n",
       "      <td>...</td>\n",
       "      <td>0.00</td>\n",
       "      <td>400.00</td>\n",
       "      <td>9366.0</td>\n",
       "      <td>4.132212</td>\n",
       "      <td>0.611788</td>\n",
       "      <td>1.0</td>\n",
       "      <td>4.0</td>\n",
       "      <td>4.3</td>\n",
       "      <td>4.5</td>\n",
       "      <td>5.0</td>\n",
       "    </tr>\n",
       "  </tbody>\n",
       "</table>\n",
       "<p>2 rows × 32 columns</p>\n",
       "</div>"
      ],
      "text/plain": [
       "          Rating                                              Reviews  \\\n",
       "           count      mean       std  min  25%  50%  75%  max   count   \n",
       "Platform                                                                \n",
       "apple     6268.0  4.049697  0.726943  1.0  4.0  4.5  4.5  5.0  6268.0   \n",
       "google    9366.0  4.191757  0.515219  1.0  4.0  4.3  4.5  5.0  9366.0   \n",
       "\n",
       "                         ... Price         Permutation1                      \\\n",
       "                   mean  ...   75%     max        count      mean       std   \n",
       "Platform                 ...                                                  \n",
       "apple      14803.805520  ...  2.99  299.99       6268.0  4.138673  0.614718   \n",
       "google    514049.836536  ...  0.00  400.00       9366.0  4.132212  0.611788   \n",
       "\n",
       "                                   \n",
       "          min  25%  50%  75%  max  \n",
       "Platform                           \n",
       "apple     1.0  4.0  4.3  4.5  5.0  \n",
       "google    1.0  4.0  4.3  4.5  5.0  \n",
       "\n",
       "[2 rows x 32 columns]"
      ]
     },
     "execution_count": 190,
     "metadata": {},
     "output_type": "execute_result"
    }
   ],
   "source": [
    "# Create a column called `Permutation1`, and assign to it the result of permuting (shuffling) the Rating column\n",
    "# This assignment will use our numpy object's random.permutation() method\n",
    "df['Permutation1'] = np.random.permutation(df['Rating'])\n",
    "# Call the describe() method on our permutation grouped by 'platform'. \n",
    "df.groupby('Platform').describe()"
   ]
  },
  {
   "cell_type": "code",
   "execution_count": 287,
   "metadata": {
    "colab": {},
    "colab_type": "code",
    "id": "aJPNpX0JFcv-"
   },
   "outputs": [],
   "source": [
    "# The difference in the means for Permutation1 (0.001103) now looks hugely different to our observed difference of 0.14206. \n",
    "# It's sure starting to look like our observed difference is significant, and that the Null is false; platform does impact on ratings\n",
    "# But to be sure, let's create 10,000 permutations, calculate the mean ratings for Google and Apple apps and the difference between these for each one, and then take the average of all of these differences.\n",
    "# Let's create a vector with the differences - that will be the distibution of the Null.\n",
    "\n",
    "# First, make a list called difference.\n",
    "difference = []\n",
    "\n",
    "# Now make a for loop that does the following 10,000 times:\n",
    "# 1. makes a permutation of the 'Rating' as you did above\n",
    "# 2. calculates the difference in the mean rating for apple and the mean rating for google. \n",
    "temp = df\n",
    "for i in range(10000):\n",
    "    temp['Permutation'] = np.random.permutation(df['Rating'])\n",
    "    difference.append(temp.groupby('Platform').describe()['Permutation']['mean']['apple'] - \n",
    "          temp.groupby('Platform').describe()['Permutation']['mean']['google'])\n",
    "    "
   ]
  },
  {
   "cell_type": "code",
   "execution_count": 288,
   "metadata": {},
   "outputs": [
    {
     "data": {
      "text/plain": [
       "[-0.006562178014656972,\n",
       " 0.018790504317026446,\n",
       " -0.0047779031026609076,\n",
       " 0.009949022663547247,\n",
       " 0.010907737541623774,\n",
       " -0.02560332073226501,\n",
       " 0.0039037927378107184,\n",
       " -0.0049643198845270575,\n",
       " 0.01189308338855799,\n",
       " -0.0029137352841424047,\n",
       " 0.016020883558096166,\n",
       " -0.0058964037937787595,\n",
       " 0.004223364363836524,\n",
       " -0.00600292766910826,\n",
       " -0.00325993787900547,\n",
       " 0.009709343944015458,\n",
       " 0.0018265771686234444,\n",
       " -0.0011827223098146433,\n",
       " 0.007046247060429778,\n",
       " -0.004058866944074424,\n",
       " 0.0023591965453517716,\n",
       " -0.006322499295127848,\n",
       " -0.0017952345930414282,\n",
       " 0.00792506903203094,\n",
       " -0.004884426977997514,\n",
       " 0.004516305021035727,\n",
       " 0.021027505699231952,\n",
       " 0.012665381484813665,\n",
       " 0.014050191864271255,\n",
       " -0.0013158771540018321,\n",
       " -1.095968104092293e-05,\n",
       " -0.0016354487800445128,\n",
       " 0.005794591525153159,\n",
       " 0.006460365746058017,\n",
       " 0.012585488578290338,\n",
       " -0.007387738048568515,\n",
       " 0.018177992033818313,\n",
       " -0.01625585067087254,\n",
       " 0.0075522354683146276,\n",
       " -0.003606140473876529,\n",
       " 0.006513627683729872,\n",
       " -0.001449031998189021,\n",
       " -0.01234109825202001,\n",
       " -0.0007832577772726168,\n",
       " 0.00701961609160584,\n",
       " -0.011435645311607345,\n",
       " 0.010614796884442335,\n",
       " 0.007392449655307054,\n",
       " 0.002598875264842704,\n",
       " -0.0009164126214598056,\n",
       " 0.01655350293481206,\n",
       " 0.004835876647057091,\n",
       " -0.002034913312590092,\n",
       " 0.0016401603867715053,\n",
       " 0.0006814455086967541,\n",
       " -0.02179509218875353,\n",
       " 0.0036374830494638744,\n",
       " 0.0034776972364394254,\n",
       " -0.0217418302510497,\n",
       " 0.0035575901429547585,\n",
       " -0.004804534071488398,\n",
       " 0.002652137202537652,\n",
       " -0.00531052247934749,\n",
       " -0.007174690297880204,\n",
       " 0.004010316613171305,\n",
       " 0.00827127162688246,\n",
       " -0.015403659668147718,\n",
       " -0.0077605716122679524,\n",
       " -0.014231897039345576,\n",
       " -0.010689978184219129,\n",
       " 0.011972976295052895,\n",
       " -0.0012626152163344173,\n",
       " 0.00598100830703352,\n",
       " 0.0039037927378204884,\n",
       " -0.002461008813960497,\n",
       " 0.0041434714573407305,\n",
       " 0.00020208806963939452,\n",
       " -0.005124105697521308,\n",
       " 0.008084854845032297,\n",
       " 0.01444965639678042,\n",
       " 0.003930423706661301,\n",
       " -0.0014490319981881328,\n",
       " 0.013357786674537131,\n",
       " 0.015142061586538524,\n",
       " 0.02097424376157342,\n",
       " -0.0036860333803883094,\n",
       " 0.004223364363832083,\n",
       " -0.006056189606784557,\n",
       " 0.002066255888141022,\n",
       " -0.010823133028379672,\n",
       " 0.010375118164904329,\n",
       " -0.008932334241048778,\n",
       " -0.0037126643492193523,\n",
       " -0.0046181172896408995,\n",
       " -0.006402392201641405,\n",
       " 0.0007613384151978764,\n",
       " 0.008191378720364462,\n",
       " -0.008319821957821993,\n",
       " 0.014556180272128572,\n",
       " -0.001715341686540306,\n",
       " -0.01263403890919701,\n",
       " -0.009198643929415162,\n",
       " 0.008297902595732154,\n",
       " -0.002434377845105473,\n",
       " -0.01143564531162422,\n",
       " -0.0037925572557240272,\n",
       " 0.009895760725881608,\n",
       " 0.01687307456083431,\n",
       " -0.01092965690371539,\n",
       " -0.004804534071491062,\n",
       " -0.0015022939358555476,\n",
       " -0.00046368615126723967,\n",
       " -0.004698010196146463,\n",
       " -0.008799179396869583,\n",
       " -0.013246551192446887,\n",
       " 0.0019331010439715968,\n",
       " -0.01319328925476082,\n",
       " -0.01545692160581158,\n",
       " -0.01287371762871814,\n",
       " -0.017986863645209183,\n",
       " 0.0012939577919208745,\n",
       " -0.000463686151253917,\n",
       " 0.0006814455086816551,\n",
       " 0.017352431999880125,\n",
       " 0.00941640328682336,\n",
       " 0.008351164533400457,\n",
       " 0.014369763490288179,\n",
       " 0.0017200532932886148,\n",
       " -0.012394360189698084,\n",
       " -0.004671379227314532,\n",
       " 0.009469665224505874,\n",
       " -0.0057366179807294415,\n",
       " -0.006775225765334625,\n",
       " -0.0016887107177012695,\n",
       " -0.005869772824925512,\n",
       " 0.011999607263899925,\n",
       " 0.008324533564553427,\n",
       " 0.006353841870694765,\n",
       " -0.01721456554896772,\n",
       " 0.021107398605747285,\n",
       " 0.0010010171347092367,\n",
       " 0.008191378720368014,\n",
       " 0.015887728713921412,\n",
       " 0.0058212224939886426,\n",
       " 0.016393717121808038,\n",
       " -0.014205266070518086,\n",
       " -0.0010761984344638265,\n",
       " 0.008351164533387134,\n",
       " 0.005102186335442127,\n",
       " -0.008772548428018112,\n",
       " -0.008133405175946962,\n",
       " -9.085258754115699e-05,\n",
       " 0.01386377508243175,\n",
       " -0.0030468901283304817,\n",
       " 0.0272325214379725,\n",
       " 0.006859830278581391,\n",
       " -0.024191879383942627,\n",
       " 0.0064337347772358555,\n",
       " -0.002487639782772,\n",
       " 0.0015336365114455575,\n",
       " -0.006775225765340842,\n",
       " 0.011466987887193802,\n",
       " 0.001959732012803528,\n",
       " 0.0017999461997915134,\n",
       " 0.006966354153949972,\n",
       " -0.002753949471153483,\n",
       " -0.004538224383139777,\n",
       " 0.01399692992659407,\n",
       " -0.019345043055839284,\n",
       " 0.0006281835710195693,\n",
       " 0.009229986504964316,\n",
       " -0.009065489085207545,\n",
       " -0.0003571622759288573,\n",
       " 0.007658759343671662,\n",
       " -0.01644226745273958,\n",
       " -0.008932334241020357,\n",
       " 0.007285925779962454,\n",
       " -0.006482285108133645,\n",
       " 0.022305792203364483,\n",
       " -0.02128910378086246,\n",
       " 0.013304524736861723,\n",
       " -0.0032599378790214573,\n",
       " 1.56712877839027e-05,\n",
       " -0.02059669859112212,\n",
       " 0.015142061586527866,\n",
       " 0.012851798266656722,\n",
       " 0.002998339797402494,\n",
       " -0.004644748258469278,\n",
       " -0.017001517798277632,\n",
       " -0.00363277144270846,\n",
       " -0.008426345833161264,\n",
       " 0.00992239169470821,\n",
       " 0.00709950899812295,\n",
       " 0.0028918159220543416,\n",
       " 0.005688067649818329,\n",
       " 0.02488899618041085,\n",
       " 0.0037972688624803297,\n",
       " 0.009256617473817563,\n",
       " 0.00046839775799689676,\n",
       " 0.012239285983425496,\n",
       " -0.005203998604014437,\n",
       " -0.013912325413333093,\n",
       " -0.004165390819437675,\n",
       " 0.01405019186425438,\n",
       " -0.0065355470458206,\n",
       " 0.007312556748807708,\n",
       " -0.0020349133125723284,\n",
       " -0.0015289249046999132,\n",
       " -0.004618117289630241,\n",
       " 0.02124055344990161,\n",
       " -0.003126783034836045,\n",
       " -0.003739295318050395,\n",
       " -0.001395770060491408,\n",
       " -0.01710804167361868,\n",
       " -0.0051507366663683385,\n",
       " -0.0003039003382472316,\n",
       " -0.004698010196148239,\n",
       " -0.011861740812974197,\n",
       " -0.00850623873968459,\n",
       " 0.007312556748813925,\n",
       " -0.0028871043153211318,\n",
       " -0.009251905867095012,\n",
       " -0.005523570230049124,\n",
       " 0.0005749216333530427,\n",
       " -0.00882581036571306,\n",
       " 0.007099508998102522,\n",
       " 0.022651994798214226,\n",
       " 0.02701947368728952,\n",
       " -0.006775225765339954,\n",
       " -0.004271914694762735,\n",
       " 0.011307202074177347,\n",
       " 0.00446304308337897,\n",
       " 0.00033524291380970794,\n",
       " -0.010663347215369434,\n",
       " -0.017001517798285626,\n",
       " -0.0071746902978722105,\n",
       " -0.012394360189696307,\n",
       " 0.003797268862486547,\n",
       " -0.011568800155795422,\n",
       " 0.005874484431670268,\n",
       " -0.005656725074228319,\n",
       " -0.014551468665389145,\n",
       " -0.0026740565646230507,\n",
       " -0.009917680087973224,\n",
       " -0.020330388902766394,\n",
       " 0.025821080089680315,\n",
       " -0.017880339769864584,\n",
       " 0.01002891557005725,\n",
       " -0.0008365197149684533,\n",
       " 0.0013472197295927302,\n",
       " -0.0020881752502557305,\n",
       " 0.0059277463693252486,\n",
       " -0.0016887107177128158,\n",
       " -0.0007033648707759355,\n",
       " 0.004969031491247833,\n",
       " 0.02709936659379686,\n",
       " 0.017219277155723134,\n",
       " 0.003424435298764905,\n",
       " 0.004942400522415014,\n",
       " -0.006082820575620929,\n",
       " -0.007707309674591656,\n",
       " 0.0016401603867688408,\n",
       " -0.021182579905517862,\n",
       " -0.0034197236920165963,\n",
       " -0.00403223597524871,\n",
       " -0.010050834932123998,\n",
       " -0.0017952345930396518,\n",
       " -0.005124105697513315,\n",
       " 0.006806568340913088,\n",
       " 0.0021195178258013314,\n",
       " 0.0067000444655773705,\n",
       " -0.013246551192438005,\n",
       " 0.009203355536133273,\n",
       " -0.0022479610632570868,\n",
       " 0.0026255062337039448,\n",
       " -0.019691245650713007,\n",
       " 0.007285925779974889,\n",
       " -0.0012359842474776173,\n",
       " 0.012905060204320584,\n",
       " -0.0017419726553784542,\n",
       " 0.0026787681713864586,\n",
       " 0.007445711592973581,\n",
       " -0.002514270751594161,\n",
       " -0.0020349133125776575,\n",
       " 0.0021195178258111014,\n",
       " -0.0056567250742292075,\n",
       " 0.007152770935793029,\n",
       " -0.0059496657314142,\n",
       " -0.003978974037584848,\n",
       " 0.018950290130046454,\n",
       " -0.004591486320812521,\n",
       " 0.0012673268230729562,\n",
       " -0.010689978184220017,\n",
       " -0.014498206727701302,\n",
       " -0.00485779600915226,\n",
       " -0.014604730603064553,\n",
       " -0.009278536835895856,\n",
       " 0.010428380102608159,\n",
       " 0.01026859428957394,\n",
       " 0.021746541857794455,\n",
       " -0.003925712099891676,\n",
       " -0.01519061191746296,\n",
       " -0.00608282057559606,\n",
       " 0.01833777784682944,\n",
       " 4.2302256626491896e-05,\n",
       " 0.014023560895433995,\n",
       " -0.0027273185023037883,\n",
       " 0.002119517825813766,\n",
       " 0.018098099127309197,\n",
       " -0.011994895657151616,\n",
       " 0.005634805712150914,\n",
       " -0.004538224383132672,\n",
       " 0.002359196545334008,\n",
       " -0.0032333069101806444,\n",
       " -0.031941491315180315,\n",
       " -0.000943043590288184,\n",
       " -0.0036061404738942926,\n",
       " -0.016309112608563048,\n",
       " 0.00036187388266384346,\n",
       " 0.0023858275141765972,\n",
       " 0.007605497405980266,\n",
       " -0.016522160359220273,\n",
       " -0.01433842091472215,\n",
       " 0.017485586844079748,\n",
       " -0.015536814512315367,\n",
       " -0.002461008813932075,\n",
       " 0.010135439445384087,\n",
       " 0.0026787681713660305,\n",
       " -0.0020881752502548423,\n",
       " -0.01484440932259723,\n",
       " 0.0004950287268332687,\n",
       " 0.0031314946415781364,\n",
       " 0.007738652250163902,\n",
       " 0.00909683166080466,\n",
       " 0.013490941518678135,\n",
       " -0.008905703272206189,\n",
       " -0.002540901720455402,\n",
       " -0.008373083895499178,\n",
       " -0.019478197900021144,\n",
       " 0.006273948964211407,\n",
       " 0.013464310549850644,\n",
       " 0.010987630448132002,\n",
       " -0.0027006875334576463,\n",
       " -0.0061360825132741326,\n",
       " 0.00371737595597299,\n",
       " -0.009598108461934096,\n",
       " 0.0055016508679734955,\n",
       " -0.013566122818474469,\n",
       " -0.004165390819415471,\n",
       " 0.01495564480468392,\n",
       " 0.018470932691004194,\n",
       " 0.004329888239200663,\n",
       " 0.00917672456729779,\n",
       " 0.011413725949514841,\n",
       " 0.0013472197295927302,\n",
       " -0.0020881752502504014,\n",
       " 0.006593520590217672,\n",
       " -0.0076274167680701055,\n",
       " -0.010982918841400569,\n",
       " -0.004405069538935713,\n",
       " 0.013038215048485569,\n",
       " -0.006615439952324387,\n",
       " -0.007307845142064728,\n",
       " 0.004649459865214034,\n",
       " 0.008084854845058942,\n",
       " -0.009118751022887395,\n",
       " -0.016389005515070387,\n",
       " -0.0004370551824353086,\n",
       " -0.004218652757119301,\n",
       " 0.008244640658053193,\n",
       " 0.002865184953215305,\n",
       " -0.004831165040321217,\n",
       " 0.01266538148479146,\n",
       " 0.008084854845042067,\n",
       " 0.008431057439895362,\n",
       " -0.012527515033864844,\n",
       " -0.018306435271260746,\n",
       " -0.001395770060501178,\n",
       " -6.422161872254861e-05,\n",
       " 0.0016934223244593483,\n",
       " 0.00235919654532335,\n",
       " 0.006220687026531557,\n",
       " 0.01032185622725379,\n",
       " -0.012767193753410844,\n",
       " -0.001315877154000944,\n",
       " 0.00654025865257335,\n",
       " -0.007760571612256406,\n",
       " 0.009283248442644165,\n",
       " 0.011653404669032419,\n",
       " 0.0032380185169103015,\n",
       " -0.006961642547181235,\n",
       " -0.016362374546215364,\n",
       " 0.021373708294091465,\n",
       " 0.013970298957748817,\n",
       " 0.01112078529231475,\n",
       " -0.00941169168007061,\n",
       " -0.010237251713991924,\n",
       " -0.0005968409954286713,\n",
       " 0.0017999461997906252,\n",
       " 0.005847853462819685,\n",
       " -0.001608817811188601,\n",
       " 0.004782614709391453,\n",
       " 0.012665381484803895,\n",
       " 0.010401749133758464,\n",
       " -0.005523570230058006,\n",
       " 0.007046247060444877,\n",
       " 0.0004417667891569721,\n",
       " 0.007818545156680123,\n",
       " -0.0017952345930236646,\n",
       " 0.009309879411487643,\n",
       " -0.004325176632471894,\n",
       " 0.01048164204027735,\n",
       " 0.0069663541539233265,\n",
       " 0.004809245678248253,\n",
       " 0.001693422324453131,\n",
       " -0.0026474255958088833,\n",
       " 0.006273948964214959,\n",
       " 0.011919714357397915,\n",
       " 0.022785149642410296,\n",
       " 0.010108808476562814,\n",
       " -0.0047779031026555785,\n",
       " -0.0009164126214642465,\n",
       " -0.010370406558196876,\n",
       " -0.003286568847861382,\n",
       " 0.004010316613171305,\n",
       " 0.0028119230155443375,\n",
       " -0.013512860880812383,\n",
       " 0.002332565576502077,\n",
       " 0.005874484431675597,\n",
       " 0.00353095917411661,\n",
       " 0.009070200691984276,\n",
       " -0.008639393583846022,\n",
       " 0.0009477551970631382,\n",
       " -0.002194699125579014,\n",
       " -0.005523570230063335,\n",
       " 0.004569566958709359,\n",
       " -0.005470308292390591,\n",
       " 0.00041513582032504104,\n",
       " -0.016442267452721815,\n",
       " -0.004458331476615562,\n",
       " 0.008297902595735707,\n",
       " 0.005714698618657366,\n",
       " 0.0053951269926324485,\n",
       " 0.0039037927377973958,\n",
       " -0.00512410569752042,\n",
       " 0.0009211242281939036,\n",
       " -0.007094797391376417,\n",
       " -0.009092120054066122,\n",
       " -0.0024610088139436215,\n",
       " 0.005741329587500843,\n",
       " 0.012612119547128486,\n",
       " 0.004036947582002348,\n",
       " 0.014263239614941803,\n",
       " 0.018071468158466608,\n",
       " -0.028053369865144617,\n",
       " -0.005443677323562213,\n",
       " -0.012554146002713651,\n",
       " 0.0051820792419494666,\n",
       " -0.00957147749309506,\n",
       " 0.008750629065940707,\n",
       " 0.023850388395829647,\n",
       " -0.029091977649756906,\n",
       " -0.00014411452523344082,\n",
       " -0.004245283725933469,\n",
       " 0.005714698618655589,\n",
       " -0.002301223000927166,\n",
       " 0.0010010171347287766,\n",
       " -0.006801856734177214,\n",
       " -0.003259937879019681,\n",
       " 0.02190632767081535,\n",
       " 0.01703286037386409,\n",
       " 0.006140794120017112,\n",
       " -0.01076987109071137,\n",
       " -0.021076056030151058,\n",
       " 0.014449656396791966,\n",
       " 0.0024657204206892658,\n",
       " 0.02004215985232527,\n",
       " 0.029416260882520362,\n",
       " -0.005044212791002423,\n",
       " -0.01572323129416553,\n",
       " 0.017991575251969927,\n",
       " 0.006700044465588029,\n",
       " 0.0026521372025243295,\n",
       " -0.0038191882245861564,\n",
       " -0.0008098887461187587,\n",
       " -0.002860473346470549,\n",
       " -0.019371674024690755,\n",
       " 0.017858420407772968,\n",
       " 0.006992985122790785,\n",
       " -0.016575422296909004,\n",
       " 0.013890406051236148,\n",
       " 0.01751221781291079,\n",
       " 0.0002819809761263059,\n",
       " 0.009815867819355617,\n",
       " 0.014636073178662556,\n",
       " -0.015030826104430517,\n",
       " 0.00739244965529906,\n",
       " 0.012638750515950647,\n",
       " -0.00011748355639085162,\n",
       " -0.0048045340714875096,\n",
       " 0.002066255888146351,\n",
       " -0.00038379324475279475,\n",
       " 0.00606090121350622,\n",
       " -0.007094797391368424,\n",
       " 0.002385827514169492,\n",
       " 0.0025189823583673387,\n",
       " -0.004618117289622248,\n",
       " -0.0007566268084735484,\n",
       " 0.001160802947745232,\n",
       " 0.009096831660798443,\n",
       " 0.0038771617690036564,\n",
       " -0.003180044972500795,\n",
       " -0.01005083493216219,\n",
       " 0.0001754571008021344,\n",
       " -0.013646015724954275,\n",
       " 0.00701961609161561,\n",
       " -0.003686033380382092,\n",
       " -0.013859063475665678,\n",
       " 0.0007613384151996527,\n",
       " 0.00813811678272014,\n",
       " 0.0007613384151987646,\n",
       " -0.012234574376682517,\n",
       " 0.001160802947731021,\n",
       " -0.0017419726553731252,\n",
       " 0.006034270244669848,\n",
       " 0.014582811240959614,\n",
       " -0.007227952235548507,\n",
       " -0.012207943407856803,\n",
       " -0.0026474255957795734,\n",
       " 0.003770637893619977,\n",
       " -0.006642070921180299,\n",
       " 0.004356519208035259,\n",
       " -0.02642888076615524,\n",
       " -0.002647425595787567,\n",
       " -0.0012359842475095917,\n",
       " 0.008084854845042955,\n",
       " 0.006992985122766804,\n",
       " 0.0026521372025456458,\n",
       " 0.006566889621378635,\n",
       " 0.010641427853270713,\n",
       " -0.011861740812972421,\n",
       " 0.016154038402279802,\n",
       " -0.016974886829450142,\n",
       " 0.006114163151194951,\n",
       " 0.0014004816672636977,\n",
       " 0.01287842923549043,\n",
       " -0.01588301710720419,\n",
       " -0.008905703272201748,\n",
       " -0.0021414371879044936,\n",
       " 0.0017466842620974532,\n",
       " 0.012239285983422832,\n",
       " 0.007605497405990036,\n",
       " 0.01168003563787856,\n",
       " 0.008644105190600548,\n",
       " -0.014072111226369977,\n",
       " -0.0011827223098190842,\n",
       " -0.0042452837259281395,\n",
       " -0.012367729220849277,\n",
       " -0.009225274898227553,\n",
       " 0.006966354153942866,\n",
       " -0.0031534140036670877,\n",
       " -0.009491584586574398,\n",
       " 0.0005216596956767461,\n",
       " -0.008932334241031015,\n",
       " -0.014684623509578998,\n",
       " 0.005608174743306549,\n",
       " -0.01116933562325162,\n",
       " -0.0022213300944091685,\n",
       " -0.012554146002695,\n",
       " 0.008004961938536503,\n",
       " 0.0015070055425878692,\n",
       " 0.0022526726699911848,\n",
       " -0.0018751274995567613,\n",
       " -0.010956287872566861,\n",
       " -0.008586131646170614,\n",
       " 0.010055546538888294,\n",
       " 0.008191378720376896,\n",
       " -0.001102829403298422,\n",
       " -0.01316665828593866,\n",
       " -0.0262690949531299,\n",
       " 0.015648049994398505,\n",
       " 0.0013205887607519173,\n",
       " -0.009811156212628624,\n",
       " 0.01106752335464023,\n",
       " 0.004116840488530116,\n",
       " 0.005075555366595097,\n",
       " 0.0007879693840289193,\n",
       " -0.018865685616787253,\n",
       " 0.00584785346282235,\n",
       " 0.00576796055631057,\n",
       " 0.006939723185104718,\n",
       " 0.006673413496747216,\n",
       " 9.55641942947949e-05,\n",
       " -0.02006407921439468,\n",
       " -0.01804012558289969,\n",
       " -0.012740562784559373,\n",
       " 0.010188701383063048,\n",
       " -0.0011028294033046393,\n",
       " -0.002540901720430533,\n",
       " -0.00555020119889349,\n",
       " -0.0007033648707848172,\n",
       " 0.01226591695226098,\n",
       " 0.00185320813744827,\n",
       " -0.01780044686335458,\n",
       " 0.006646782527933048,\n",
       " -0.00773394064343691,\n",
       " -0.002966997221817813,\n",
       " -0.003686033380395415,\n",
       " 0.011253940136511709,\n",
       " -0.008080143238294646,\n",
       " 0.003664114018294029,\n",
       " 0.005661436680982845,\n",
       " -0.015829755169511905,\n",
       " 0.002865184953214417,\n",
       " 0.005208710210782286,\n",
       " 0.0012140648854028768,\n",
       " -0.0032599378790170164,\n",
       " -0.002940366253015192,\n",
       " 0.0019863629816443407,\n",
       " 0.0048092456782313775,\n",
       " -0.01849285205309137,\n",
       " 0.0017733152309595823,\n",
       " 0.002385827514174821,\n",
       " 0.0002020880696314009,\n",
       " -0.0013691390916674706,\n",
       " -0.010476930433497955,\n",
       " 0.0030516017350699087,\n",
       " 0.0037440069248013685,\n",
       " -0.004032235975252263,\n",
       " 0.0021461487946528024,\n",
       " 0.0031847565792579857,\n",
       " 0.0024923513895291904,\n",
       " -0.006562178014650755,\n",
       " 0.006060901213500003,\n",
       " 0.004143471457361159,\n",
       " -0.009704632337266261,\n",
       " -0.02339295031888966,\n",
       " -0.011222597560934133,\n",
       " 0.012399071796421524,\n",
       " 0.0044630430833700885,\n",
       " 0.011147416261162668,\n",
       " 0.013251262799202301,\n",
       " 0.0002553500073245729,\n",
       " -0.012394360189693643,\n",
       " -0.013246551192423794,\n",
       " 0.0015868984491040905,\n",
       " -0.012367729220859047,\n",
       " 0.01921659981839685,\n",
       " -0.005363784417044215,\n",
       " -0.0013425081228355396,\n",
       " 0.0015602674802623895,\n",
       " -0.01804012558289525,\n",
       " -0.0027273185023100055,\n",
       " -0.012447622127362834,\n",
       " -0.0004104242135678504,\n",
       " 0.011600142731356122,\n",
       " -0.010024203963311606,\n",
       " 0.005981008306996216,\n",
       " 0.0018265771686296617,\n",
       " -0.0019283894372144061,\n",
       " -0.008160036144822413,\n",
       " -0.007627416768076323,\n",
       " -0.008346452926636161,\n",
       " -0.020383650840439138,\n",
       " -0.003765926286916077,\n",
       " 0.008644105190577456,\n",
       " -0.001315877154006273,\n",
       " 0.017432324906401675,\n",
       " -0.007334476110894883,\n",
       " 0.00954955813102032,\n",
       " 0.004063578550824509,\n",
       " 0.022705256735883417,\n",
       " -0.004831165040302565,\n",
       " -0.007307845142053182,\n",
       " 0.014529549303300193,\n",
       " 0.00861747422174819,\n",
       " 0.0022260417011574773,\n",
       " 0.004170102426184208,\n",
       " -0.002221330094422491,\n",
       " -0.0005968409954331122,\n",
       " 0.0162073003399561,\n",
       " 0.012345809858747891,\n",
       " -0.014844409322573249,\n",
       " -0.014524837696540338,\n",
       " 0.009735974912862488,\n",
       " -0.003925712099888123,\n",
       " 0.0005482906644944663,\n",
       " -0.003978974037573302,\n",
       " -0.014897671260264644,\n",
       " -0.008666024552682394,\n",
       " -0.008506238739671268,\n",
       " 0.0027586610778946863,\n",
       " -0.007068166422521394,\n",
       " -0.0018751274995283396,\n",
       " -0.011382383373919502,\n",
       " 0.00432988823919267,\n",
       " -0.0013158771539920622,\n",
       " 0.015701311932078355,\n",
       " -0.00043705518240955143,\n",
       " 0.006566889621385741,\n",
       " 0.0015336365114393402,\n",
       " -0.0035795095050330517,\n",
       " 0.011600142731363228,\n",
       " -0.00565672507426207,\n",
       " 0.02036173147834308,\n",
       " 0.005874484431675597,\n",
       " 0.00536849602378453,\n",
       " 0.0068331993097601185,\n",
       " -0.004298545663618647,\n",
       " 0.0037972688624803297,\n",
       " 0.0031581256104109556,\n",
       " -0.0010761984344904718,\n",
       " -0.003180044972506124,\n",
       " 0.004729352771753348,\n",
       " -0.0172944584554795,\n",
       " -0.009438322648916753,\n",
       " 0.004622828896379438,\n",
       " 0.005714698618652925,\n",
       " 0.004063578550849378,\n",
       " 0.001879839106289083,\n",
       " -0.010956287872555315,\n",
       " -0.023845676789092884,\n",
       " 0.0004151358203259292,\n",
       " -0.019877662432541854,\n",
       " 0.0002819809761342995,\n",
       " -0.01407211122633889,\n",
       " 0.000601552602166322,\n",
       " 0.009256617473817563,\n",
       " -0.0028871043152944864,\n",
       " 0.009496296193323595,\n",
       " 0.0016667913556203118,\n",
       " -0.015803124200674645,\n",
       " -0.014391682852360255,\n",
       " 0.007925069032033605,\n",
       " 0.010614796884437894,\n",
       " 0.012718643422450882,\n",
       " 0.004143471457352277,\n",
       " 0.006992985122765916,\n",
       " -0.005070843759856558,\n",
       " 0.0135442034563793,\n",
       " 0.00864410519058545,\n",
       " -0.0140188492886697,\n",
       " -0.01756076814385743,\n",
       " -0.010636716246538391,\n",
       " -0.0021680681567319837,\n",
       " -0.015297135792798677,\n",
       " 0.025581401370175172,\n",
       " -0.017161303611295864,\n",
       " -0.013140027317114722,\n",
       " -0.01564333838767684,\n",
       " -0.0005169480889311018,\n",
       " -0.00898559617871264,\n",
       " 0.0004151358203339228,\n",
       " -0.01311339634825881,\n",
       " -0.005843141856105127,\n",
       " 0.009842498788211529,\n",
       " 0.011387094980679358,\n",
       " -0.004618117289640011,\n",
       " 0.0012140648853922187,\n",
       " 0.011200678198814984,\n",
       " -0.01734772039315402,\n",
       " 0.001027648103547385,\n",
       " -0.007760571612247524,\n",
       " -0.004484962445460816,\n",
       " -0.0036061404738694236,\n",
       " 0.013357786674515815,\n",
       " -0.001076198434476261,\n",
       " -0.008160036144783334,\n",
       " 0.007152770935815234,\n",
       " -0.012554146002691446,\n",
       " 0.006806568340917529,\n",
       " -0.002327853969758209,\n",
       " -0.0012093532786536798,\n",
       " 0.005368496023791636,\n",
       " -0.013273182161275265,\n",
       " -0.003100152066010331,\n",
       " 0.002146148794635927,\n",
       " 0.013996929926601176,\n",
       " -0.002221330094411833,\n",
       " -0.019584721775371072,\n",
       " 0.0134376795810347,\n",
       " -0.006508916076977123,\n",
       " 0.009416403286819808,\n",
       " 0.011280571105344528,\n",
       " 0.015355109337212625,\n",
       " 0.008537581315244402,\n",
       " -0.0011560913409791596,\n",
       " 0.0032912804546025853,\n",
       " -0.017853708801029988,\n",
       " 0.0017200532932903911,\n",
       " -0.001795234593045869,\n",
       " 0.011227309167651356,\n",
       " 0.010401749133753135,\n",
       " 0.002066255888145463,\n",
       " -0.014551468665404244,\n",
       " 0.007658759343674326,\n",
       " -0.00813340517595762,\n",
       " -0.005736617980736547,\n",
       " -0.00232785396976265,\n",
       " -0.010370406558168455,\n",
       " -0.0007033648707777118,\n",
       " 0.00012219516313827228,\n",
       " 0.006380472839559559,\n",
       " 0.00017545710080746346,\n",
       " 0.02148023216947781,\n",
       " -0.006562178014644537,\n",
       " 0.004356519208044141,\n",
       " -0.0023012230009085144,\n",
       " -0.0039257120998987816,\n",
       " 0.008271271626900223,\n",
       " -0.003366461754356287,\n",
       " 0.02118729151224663,\n",
       " -0.02302011675517246,\n",
       " -0.00946495361775579,\n",
       " -0.015590076449988999,\n",
       " 0.018950290130065994,\n",
       " -0.004032235975252263,\n",
       " 0.00411684048851324,\n",
       " 0.006007639275848575,\n",
       " 0.01306484601732727,\n",
       " 0.0033978043299347505,\n",
       " 0.004463043083380747,\n",
       " 0.00036187388264696807,\n",
       " 0.004010316613161535,\n",
       " -0.009092120054068786,\n",
       " 0.005981008307020197,\n",
       " 0.02462268649207644,\n",
       " -0.02160867540686251,\n",
       " 0.008777260034764645,\n",
       " 0.01133383304300839,\n",
       " -0.01921188821167341,\n",
       " -0.008026881300634336,\n",
       " 0.015195323524209492,\n",
       " 0.013943667988920438,\n",
       " 0.001400481667239717,\n",
       " 0.0012406958542285906,\n",
       " -0.004831165040342533,\n",
       " -0.014178635101682602,\n",
       " -0.013219920223602522,\n",
       " 0.006460365746059793,\n",
       " -0.00493768891566404,\n",
       " -0.005816510887250992,\n",
       " -0.00741436901740844,\n",
       " -0.008452976802003853,\n",
       " -0.00531052247938657,\n",
       " -0.004005605006432766,\n",
       " -0.009944311056796273,\n",
       " 0.022944935455409876,\n",
       " 0.0033445423922566775,\n",
       " 0.007898438063175917,\n",
       " 0.016260562277627066,\n",
       " 0.003877161768977899,\n",
       " 0.00012219516314271317,\n",
       " -0.003579509505030387,\n",
       " 0.009656082006333833,\n",
       " 0.010455011071441866,\n",
       " 0.0018532081374456055,\n",
       " -0.00027726936941174785,\n",
       " -0.006082820575612047,\n",
       " -0.01636237454622247,\n",
       " -0.0020881752502308615,\n",
       " -0.006482285108144303,\n",
       " 0.0074989735306463245,\n",
       " 0.010641427853281371,\n",
       " -0.0117019549999684,\n",
       " -0.011302490467426374,\n",
       " -0.009891049119121753,\n",
       " -0.013832432506820425,\n",
       " 0.004170102426171773,\n",
       " 0.0007879693840058266,\n",
       " 0.003610852080619509,\n",
       " 0.008857152941280866,\n",
       " 0.016393717121819584,\n",
       " -0.009784525243772713,\n",
       " 0.019642695319753045,\n",
       " -0.009944311056783839,\n",
       " 0.00025535000729792756,\n",
       " -0.013140027317104064,\n",
       " 0.0016934223244442492,\n",
       " 0.007285925779984659,\n",
       " -0.008532869708513857,\n",
       " 0.007712021281346182,\n",
       " 0.0021461487946945468,\n",
       " 0.0042499953326951,\n",
       " -0.008745917459198616,\n",
       " 0.0006281835710195693,\n",
       " 0.010295225258423635,\n",
       " 0.0021195178258128777,\n",
       " 0.014369763490265086,\n",
       " 0.010668058822099091,\n",
       " 0.004090209519653776,\n",
       " -0.012713931815743429,\n",
       " 0.006007639275845911,\n",
       " 0.0030782327039160506,\n",
       " 0.01546163321255456,\n",
       " -0.004964319884519064,\n",
       " 0.016819812623191766,\n",
       " 0.018630718504001997,\n",
       " -0.010237251713995477,\n",
       " -0.03098277643709757,\n",
       " 0.0010010171347163421,\n",
       " 0.008324533564555203,\n",
       " -0.0084529768020003,\n",
       " -0.013086765379447307,\n",
       " -0.006988273516027377,\n",
       " -0.010317144620518803,\n",
       " 0.001986362981645229,\n",
       " -0.010317144620509033,\n",
       " 0.0126387505159693,\n",
       " -0.009571477493115488,\n",
       " 0.014689335116319313,\n",
       " 0.004090209519663546,\n",
       " 0.0014004816672557041,\n",
       " -0.004405069538941042,\n",
       " 0.005634805712142921,\n",
       " 0.0223856851098585,\n",
       " -0.01521724288630466,\n",
       " -0.003393092723189106,\n",
       " 0.005661436680980181,\n",
       " 0.01444965639678486,\n",
       " 0.00861747422174286,\n",
       " -0.01404548025750696,\n",
       " -0.006429023170491099,\n",
       " -0.0007033648707830409,\n",
       " -0.004058866944117057,\n",
       " 0.0013472197295705257,\n",
       " 0.0211872915122564,\n",
       " 0.002279303638834662,\n",
       " 0.00630057993304689,\n",
       " -0.006375761232795263,\n",
       " -0.002274592032075695,\n",
       " 0.012425702765267665,\n",
       " 0.0077652832189976095,\n",
       " 0.01431650155260833,\n",
       " -0.008932334241030127,\n",
       " -0.010183989776327174,\n",
       " 0.0035309591741095048,\n",
       " -0.012926979566409535,\n",
       " 4.230225663715004e-05,\n",
       " 0.008164747751544077,\n",
       " -0.0033398307855172504,\n",
       " 0.01495564480466438,\n",
       " 0.011493618856019516,\n",
       " -0.007893726456456918,\n",
       " -0.018333066240077578,\n",
       " 0.001560267480274824,\n",
       " -0.015217242886277127,\n",
       " 0.014715966085147691,\n",
       " 0.002492351389526526,\n",
       " -0.0008631506837879499,\n",
       " 0.004116840488492812,\n",
       " 0.014769228022816883,\n",
       " 0.02121392248107945,\n",
       " 0.004915769553571536,\n",
       " -0.00834645292665126,\n",
       " 0.02331776901910665,\n",
       " -0.001955020406075647,\n",
       " 0.014822489960494067,\n",
       " 0.0059011154005181865,\n",
       " 0.003557590142952094,\n",
       " -0.007121428360211901,\n",
       " -0.008319821957825546,\n",
       " -0.022886961910988823,\n",
       " -0.0009696745591378786,\n",
       " -0.004378438570128651,\n",
       " -0.003739295318063718,\n",
       " -0.010503561402360084,\n",
       " 0.005581543774485276,\n",
       " -0.00927853683589941,\n",
       " -0.006615439952321722,\n",
       " 0.011387094980670476,\n",
       " 0.0011075410100680472,\n",
       " -0.004990950853336784,\n",
       " 0.006966354153926879,\n",
       " 0.01255885760945663,\n",
       " -0.0013957700605384815,\n",
       " 0.012745274391292583,\n",
       " 0.013304524736845735,\n",
       " 0.0018798391062926356,\n",
       " 0.0011075410100485072,\n",
       " 0.019136706911886847,\n",
       " -0.01037040655818977,\n",
       " 0.0029717088285838855,\n",
       " 0.002572244296022319,\n",
       " -0.016495529390406105,\n",
       " -0.006242606388625838,\n",
       " 0.015221954493032541,\n",
       " 0.018790504317031775,\n",
       " 0.0013472197295802957,\n",
       " 0.005048924397752508,\n",
       " -0.00011748355640772701,\n",
       " -0.01817328042706201,\n",
       " -0.010476930433518383,\n",
       " -0.001928389437213518,\n",
       " -0.024910915542511347,\n",
       " -0.008799179396867807,\n",
       " 0.012452333734126242,\n",
       " 0.001666791355616759,\n",
       " -0.008000250331800629,\n",
       " -0.00887907230335827,\n",
       " ...]"
      ]
     },
     "execution_count": 288,
     "metadata": {},
     "output_type": "execute_result"
    }
   ],
   "source": [
    "difference"
   ]
  },
  {
   "cell_type": "code",
   "execution_count": 289,
   "metadata": {
    "colab": {},
    "colab_type": "code",
    "id": "VlzpYTkYFcv_",
    "scrolled": false
   },
   "outputs": [
    {
     "data": {
      "image/png": "[encoded data removed]",
      "text/plain": [
       "<Figure size 432x288 with 1 Axes>"
      ]
     },
     "metadata": {
      "needs_background": "light"
     },
     "output_type": "display_data"
    }
   ],
   "source": [
    "# Make a variable called 'histo', and assign to it the result of plotting a histogram of the difference list. \n",
    "histo = plt.hist(difference)"
   ]
  },
  {
   "cell_type": "code",
   "execution_count": 290,
   "metadata": {
    "colab": {},
    "colab_type": "code",
    "id": "KhqgDFd3FcwB"
   },
   "outputs": [
    {
     "data": {
      "text/plain": [
       "0.14206054745123442"
      ]
     },
     "execution_count": 290,
     "metadata": {},
     "output_type": "execute_result"
    }
   ],
   "source": [
    "# Now make a variable called obs_difference, and assign it the result of the mean of our 'apple' variable and the mean of our 'google variable'\n",
    "obs_difference = np.mean(apple) - np.mean(google)\n",
    "\n",
    "# Make this difference absolute with the built-in abs() function. \n",
    "obs_difference = abs(obs_difference)\n",
    "\n",
    "# Print out this value; it should be 0.1420605474512291. \n",
    "obs_difference"
   ]
  },
  {
   "cell_type": "markdown",
   "metadata": {
    "colab_type": "text",
    "id": "QUNuuSgDFcwE"
   },
   "source": [
    "## Stage 4 -  Evaluating and concluding\n",
    "### 4a. What is our conclusion?"
   ]
  },
  {
   "cell_type": "code",
   "execution_count": 292,
   "metadata": {
    "colab": {},
    "colab_type": "code",
    "id": "XMQHnqx1FcwF"
   },
   "outputs": [
    {
     "data": {
      "text/plain": [
       "\"\\nWhat do we know? \\n\\nRecall: The p-value of our observed data is just the proportion of the data given the null that's at least as extreme as that observed data.\\n\\nAs a result, we're going to count how many of the differences in our difference list are at least as extreme as our observed difference.\\n\\nIf less than or equal to 5% of them are, then we will reject the Null. \\n\""
      ]
     },
     "execution_count": 292,
     "metadata": {},
     "output_type": "execute_result"
    }
   ],
   "source": [
    "'''\n",
    "What do we know? \n",
    "\n",
    "Recall: The p-value of our observed data is just the proportion of the data given the null that's at least as extreme as that observed data.\n",
    "\n",
    "As a result, we're going to count how many of the differences in our difference list are at least as extreme as our observed difference.\n",
    "\n",
    "If less than or equal to 5% of them are, then we will reject the Null. \n",
    "'''"
   ]
  },
  {
   "cell_type": "code",
   "execution_count": 294,
   "metadata": {},
   "outputs": [
    {
     "name": "stdout",
     "output_type": "stream",
     "text": [
      "0.0\n"
     ]
    }
   ],
   "source": [
    "count = 0\n",
    "for i in range(len(difference)):\n",
    "    if difference[i] >= obs_difference:\n",
    "        count += 1\n",
    "print(count / len(difference))"
   ]
  },
  {
   "cell_type": "markdown",
   "metadata": {
    "colab_type": "text",
    "id": "4RTofY9wFcwI"
   },
   "source": [
    "### 4b. What is our decision?\n",
    "So actually, zero differences are at least as extreme as our observed difference!\n",
    "\n",
    "So the p-value of our observed data is 0. \n",
    "\n",
    "It doesn't matter which significance level we pick; our observed data is statistically significant, and we reject the Null.\n",
    "\n",
    "We conclude that platform does impact on ratings. Specifically, we should advise our client to integrate **only Google Play** into their operating system interface. "
   ]
  },
  {
   "cell_type": "markdown",
   "metadata": {
    "colab_type": "text",
    "id": "Cu_eh7fTFcwJ"
   },
   "source": [
    "### 4c. Other statistical tests, and next steps\n",
    "The test we used here is the Permutation test. This was appropriate because our data were not normally distributed! \n",
    "\n",
    "As we've seen in Professor Spiegelhalter's book, there are actually many different statistical tests, all with different assumptions. How many of these different statistical tests can you remember? How much do you remember about what the appropriate conditions are under which to use them? \n",
    "\n",
    "Make a note of your answers to these questions, and discuss them with your mentor at your next call. \n"
   ]
  }
 ],
 "metadata": {
  "colab": {
   "collapsed_sections": [
    "5fbRq2MZFcvq",
    "4RTofY9wFcwI",
    "Cu_eh7fTFcwJ"
   ],
   "name": "Springboard Apps project - Tier 3 - Complete.ipynb",
   "provenance": []
  },
  "kernelspec": {
   "display_name": "Python 3",
   "language": "python",
   "name": "python3"
  },
  "language_info": {
   "codemirror_mode": {
    "name": "ipython",
    "version": 3
   },
   "file_extension": ".py",
   "mimetype": "text/x-python",
   "name": "python",
   "nbconvert_exporter": "python",
   "pygments_lexer": "ipython3",
   "version": "3.7.4"
  }
 },
 "nbformat": 4,
 "nbformat_minor": 1
}
